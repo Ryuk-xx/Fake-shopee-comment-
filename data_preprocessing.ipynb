{
 "cells": [
  {
   "cell_type": "markdown",
   "metadata": {},
   "source": [
    "# Cài đặt một số thư viện "
   ]
  },
  {
   "cell_type": "code",
   "execution_count": 34,
   "metadata": {
    "execution": {
     "iopub.execute_input": "2025-03-16T12:28:09.430977Z",
     "iopub.status.busy": "2025-03-16T12:28:09.430549Z",
     "iopub.status.idle": "2025-03-16T12:29:18.789010Z",
     "shell.execute_reply": "2025-03-16T12:29:18.787593Z",
     "shell.execute_reply.started": "2025-03-16T12:28:09.430939Z"
    },
    "trusted": true
   },
   "outputs": [],
   "source": [
    "# %pip install underthesea \n",
    "# %pip install pyvi\n"
   ]
  },
  {
   "cell_type": "code",
   "execution_count": 35,
   "metadata": {
    "execution": {
     "iopub.execute_input": "2025-03-16T12:29:27.441435Z",
     "iopub.status.busy": "2025-03-16T12:29:27.440790Z",
     "iopub.status.idle": "2025-03-16T12:29:27.447391Z",
     "shell.execute_reply": "2025-03-16T12:29:27.446178Z",
     "shell.execute_reply.started": "2025-03-16T12:29:27.441396Z"
    },
    "trusted": true
   },
   "outputs": [],
   "source": [
    "import numpy as np\n",
    "import pandas as pd\n",
    "import matplotlib.pyplot as plt\n",
    "import seaborn as sns\n",
    "import unicodedata\n",
    "import re\n",
    "import regex\n",
    "import pyvi\n"
   ]
  },
  {
   "cell_type": "markdown",
   "metadata": {},
   "source": [
    "# Đọc dữ liệu từ bộ dataset "
   ]
  },
  {
   "cell_type": "code",
   "execution_count": 36,
   "metadata": {
    "_cell_guid": "b1076dfc-b9ad-4769-8c92-a6c4dae69d19",
    "_uuid": "8f2839f25d086af736a60e9eeb907d3b93b6e0e5",
    "execution": {
     "iopub.execute_input": "2025-03-16T12:29:27.449651Z",
     "iopub.status.busy": "2025-03-16T12:29:27.449283Z",
     "iopub.status.idle": "2025-03-16T12:29:28.105586Z",
     "shell.execute_reply": "2025-03-16T12:29:28.104276Z",
     "shell.execute_reply.started": "2025-03-16T12:29:27.449619Z"
    },
    "trusted": true
   },
   "outputs": [],
   "source": [
    "df = pd.read_csv(r\"D:\\Spring2025\\DAP391m\\Fake-shopee-comment--main\\shopee_data\\Generated_Sentences_1.csv\")"
   ]
  },
  {
   "cell_type": "markdown",
   "metadata": {},
   "source": [
    "xem 5 dòng đầu tiên"
   ]
  },
  {
   "cell_type": "code",
   "execution_count": 37,
   "metadata": {
    "execution": {
     "iopub.execute_input": "2025-03-16T12:29:28.107606Z",
     "iopub.status.busy": "2025-03-16T12:29:28.107110Z",
     "iopub.status.idle": "2025-03-16T12:29:28.128395Z",
     "shell.execute_reply": "2025-03-16T12:29:28.127143Z",
     "shell.execute_reply.started": "2025-03-16T12:29:28.107559Z"
    },
    "trusted": true
   },
   "outputs": [
    {
     "data": {
      "text/html": [
       "<div>\n",
       "<style scoped>\n",
       "    .dataframe tbody tr th:only-of-type {\n",
       "        vertical-align: middle;\n",
       "    }\n",
       "\n",
       "    .dataframe tbody tr th {\n",
       "        vertical-align: top;\n",
       "    }\n",
       "\n",
       "    .dataframe thead th {\n",
       "        text-align: right;\n",
       "    }\n",
       "</style>\n",
       "<table border=\"1\" class=\"dataframe\">\n",
       "  <thead>\n",
       "    <tr style=\"text-align: right;\">\n",
       "      <th></th>\n",
       "      <th>category</th>\n",
       "      <th>text</th>\n",
       "      <th>label</th>\n",
       "    </tr>\n",
       "  </thead>\n",
       "  <tbody>\n",
       "    <tr>\n",
       "      <th>0</th>\n",
       "      <td>Thời Trang Nữ</td>\n",
       "      <td>Siuu đẹp:))\\n</td>\n",
       "      <td>CG</td>\n",
       "    </tr>\n",
       "    <tr>\n",
       "      <th>1</th>\n",
       "      <td>Thời Trang Nam</td>\n",
       "      <td>Dùng được so với giá tiền</td>\n",
       "      <td>CG</td>\n",
       "    </tr>\n",
       "    <tr>\n",
       "      <th>2</th>\n",
       "      <td>Túi Ví Nữ</td>\n",
       "      <td>Xinh lắm mn nên mua nha</td>\n",
       "      <td>CG</td>\n",
       "    </tr>\n",
       "    <tr>\n",
       "      <th>3</th>\n",
       "      <td>Giày Dép Nam</td>\n",
       "      <td>Đẹp, rẻ nên mua nha</td>\n",
       "      <td>CG</td>\n",
       "    </tr>\n",
       "    <tr>\n",
       "      <th>4</th>\n",
       "      <td>Balo &amp; Túi Ví Nam</td>\n",
       "      <td>Giao hàg nhah k</td>\n",
       "      <td>CG</td>\n",
       "    </tr>\n",
       "  </tbody>\n",
       "</table>\n",
       "</div>"
      ],
      "text/plain": [
       "            category                       text label\n",
       "0      Thời Trang Nữ              Siuu đẹp:))\\n    CG\n",
       "1     Thời Trang Nam  Dùng được so với giá tiền    CG\n",
       "2          Túi Ví Nữ    Xinh lắm mn nên mua nha    CG\n",
       "3       Giày Dép Nam        Đẹp, rẻ nên mua nha    CG\n",
       "4  Balo & Túi Ví Nam            Giao hàg nhah k    CG"
      ]
     },
     "execution_count": 37,
     "metadata": {},
     "output_type": "execute_result"
    }
   ],
   "source": [
    "df.head()"
   ]
  },
  {
   "cell_type": "markdown",
   "metadata": {},
   "source": [
    "xem một số thông tin cơ bản"
   ]
  },
  {
   "cell_type": "code",
   "execution_count": 38,
   "metadata": {
    "execution": {
     "iopub.execute_input": "2025-03-16T12:29:28.130682Z",
     "iopub.status.busy": "2025-03-16T12:29:28.130237Z",
     "iopub.status.idle": "2025-03-16T12:29:28.172470Z",
     "shell.execute_reply": "2025-03-16T12:29:28.171286Z",
     "shell.execute_reply.started": "2025-03-16T12:29:28.130647Z"
    },
    "trusted": true
   },
   "outputs": [
    {
     "name": "stdout",
     "output_type": "stream",
     "text": [
      "<class 'pandas.core.frame.DataFrame'>\n",
      "RangeIndex: 68083 entries, 0 to 68082\n",
      "Data columns (total 3 columns):\n",
      " #   Column    Non-Null Count  Dtype \n",
      "---  ------    --------------  ----- \n",
      " 0   category  68083 non-null  object\n",
      " 1   text      68083 non-null  object\n",
      " 2   label     68083 non-null  object\n",
      "dtypes: object(3)\n",
      "memory usage: 1.6+ MB\n"
     ]
    }
   ],
   "source": [
    "df.info()"
   ]
  },
  {
   "cell_type": "code",
   "execution_count": 39,
   "metadata": {
    "execution": {
     "iopub.execute_input": "2025-03-16T12:30:36.871645Z",
     "iopub.status.busy": "2025-03-16T12:30:36.871224Z",
     "iopub.status.idle": "2025-03-16T12:30:36.883733Z",
     "shell.execute_reply": "2025-03-16T12:30:36.882464Z",
     "shell.execute_reply.started": "2025-03-16T12:30:36.871608Z"
    },
    "trusted": true
   },
   "outputs": [
    {
     "name": "stdout",
     "output_type": "stream",
     "text": [
      "Số lượt đánh giá trong các loại sản phẩm\n",
      " category\n",
      "Thời Trang Nữ        8766\n",
      "Giày Dép Nữ          8696\n",
      "Túi Ví Nữ            8575\n",
      "Thời Trang Trẻ Em    8563\n",
      "Thời Trang Nam       8424\n",
      "Giày Dép Nam         8372\n",
      "Đồng Hồ              8352\n",
      "Balo & Túi Ví Nam    8335\n",
      "Name: count, dtype: int64\n"
     ]
    }
   ],
   "source": [
    "# xem số lượng trong category\n",
    "print(f\"Số lượt đánh giá trong các loại sản phẩm\\n {df['category'].value_counts()}\")"
   ]
  },
  {
   "cell_type": "markdown",
   "metadata": {},
   "source": [
    "# Tiền xử lý dữ liệu"
   ]
  },
  {
   "cell_type": "markdown",
   "metadata": {},
   "source": [
    "**Các bước thực hiện tiền xử lý bộ dữ liệu theo trình tự như sau**\n",
    "1. Xóa NaN trong comment\n",
    "2. Normalize\n",
    "3. Kiểm tra và loại bỏ các comment có chứa URL\n",
    "4. Loại bỏ các ký tự đặt biệt\n",
    "5. Loại bỏ các bình luận giống nhau\n",
    "6. Thay thế các từ viết tắt\n"
   ]
  },
  {
   "cell_type": "code",
   "execution_count": 40,
   "metadata": {},
   "outputs": [],
   "source": [
    "'''Pattern dùng để kiểm tra text có chứa URL hay không'''\n",
    "URL = r\"(?i)\\b((?:https?://|www\\d{0,3}[.]|[a-z0-9.\\-]+[.][a-z]{2,4}/)(?:[^\\s()<>]+|\\(([^\\s()<>]+|\\([^\\s()<>]+\\))*\\))+(?:\\(([^\\s()<>]+|\\([^\\s()<>]+\\))*\\)|[^\\s`!()\\[\\]{};:'\\\".,<>?]))\"\n",
    "\n",
    "'''Các ký tự UTF-8 in hoa (chỉ giữ lại các ký tự hợp lệ tiếng Việt)'''\n",
    "UTF8_UPPER = r\"[^A-ZÁÀẢÃẠÂẤẦẨẪẬĂẮẰẲẴẶÉÈẺẼẸÊẾỀỂỄỆÍÌỈĨỊÓÒỎÕỌÔỐỒỔỖỘƠỚỜỞỠỢÚÙỦŨỤƯỨỪỬỮỰÝỲỶỸỴĐ]\"\n",
    "\n",
    "'''Các ký tự UTF-8 in thường (chỉ giữ lại các ký tự hợp lệ tiếng Việt và khoảng trắng)'''\n",
    "UTF8_LOWER = r\"[^a-záàảãạâấầẩẫậăắằẳẵặéèẻẽẹêếềểễệíìỉĩịóòỏõọôốồổỗộơớờởỡợúùủũụưứừửữựýỳỷỹỵđ ]\""
   ]
  },
  {
   "cell_type": "markdown",
   "metadata": {},
   "source": [
    " # 1. Xóa NaN trong cột comment"
   ]
  },
  {
   "cell_type": "code",
   "execution_count": 41,
   "metadata": {
    "execution": {
     "iopub.execute_input": "2025-03-16T12:31:39.953518Z",
     "iopub.status.busy": "2025-03-16T12:31:39.952815Z",
     "iopub.status.idle": "2025-03-16T12:31:39.976056Z",
     "shell.execute_reply": "2025-03-16T12:31:39.974647Z",
     "shell.execute_reply.started": "2025-03-16T12:31:39.953475Z"
    },
    "trusted": true
   },
   "outputs": [],
   "source": [
    "df.dropna(subset=['text'],inplace=True)"
   ]
  },
  {
   "cell_type": "markdown",
   "metadata": {},
   "source": [
    "# 2. Normalize"
   ]
  },
  {
   "cell_type": "code",
   "execution_count": 42,
   "metadata": {
    "execution": {
     "iopub.execute_input": "2025-03-16T12:34:05.452780Z",
     "iopub.status.busy": "2025-03-16T12:34:05.452349Z",
     "iopub.status.idle": "2025-03-16T12:34:05.639975Z",
     "shell.execute_reply": "2025-03-16T12:34:05.638801Z",
     "shell.execute_reply.started": "2025-03-16T12:34:05.452744Z"
    },
    "trusted": true
   },
   "outputs": [
    {
     "data": {
      "text/html": [
       "<div>\n",
       "<style scoped>\n",
       "    .dataframe tbody tr th:only-of-type {\n",
       "        vertical-align: middle;\n",
       "    }\n",
       "\n",
       "    .dataframe tbody tr th {\n",
       "        vertical-align: top;\n",
       "    }\n",
       "\n",
       "    .dataframe thead th {\n",
       "        text-align: right;\n",
       "    }\n",
       "</style>\n",
       "<table border=\"1\" class=\"dataframe\">\n",
       "  <thead>\n",
       "    <tr style=\"text-align: right;\">\n",
       "      <th></th>\n",
       "      <th>category</th>\n",
       "      <th>text</th>\n",
       "      <th>label</th>\n",
       "      <th>processed_comment</th>\n",
       "    </tr>\n",
       "  </thead>\n",
       "  <tbody>\n",
       "    <tr>\n",
       "      <th>36603</th>\n",
       "      <td>Giày Dép Nam</td>\n",
       "      <td>Màu sắc:trắng kem\\nĐúng với mô tả:đúng\\n\\nÁo đ...</td>\n",
       "      <td>CG</td>\n",
       "      <td>màu sắc:trắng kem\\nđúng với mô tả:đúng\\n\\náo đ...</td>\n",
       "    </tr>\n",
       "    <tr>\n",
       "      <th>3041</th>\n",
       "      <td>Thời Trang Trẻ Em</td>\n",
       "      <td>Đúng với mô tả:cungx dc</td>\n",
       "      <td>OR</td>\n",
       "      <td>đúng với mô tả:cungx dc</td>\n",
       "    </tr>\n",
       "    <tr>\n",
       "      <th>53202</th>\n",
       "      <td>Đồng Hồ</td>\n",
       "      <td>sản phẩm nhận đc giống như ảnh và giao hàng nh...</td>\n",
       "      <td>CG</td>\n",
       "      <td>sản phẩm nhận đc giống như ảnh và giao hàng nh...</td>\n",
       "    </tr>\n",
       "    <tr>\n",
       "      <th>60510</th>\n",
       "      <td>Giày Dép Nữ</td>\n",
       "      <td>Quá xinh yêu luôn đó keo 😍 mà mang lâu cũng hơ...</td>\n",
       "      <td>OR</td>\n",
       "      <td>quá xinh yêu luôn đó keo 😍 mà mang lâu cũng hơ...</td>\n",
       "    </tr>\n",
       "    <tr>\n",
       "      <th>12308</th>\n",
       "      <td>Giày Dép Nữ</td>\n",
       "      <td>Giày về vừa in chân luôn ạ.Chất liệu:vịn\\nMàu ...</td>\n",
       "      <td>CG</td>\n",
       "      <td>giày về vừa in chân luôn ạ.chất liệu:vịn\\nmàu ...</td>\n",
       "    </tr>\n",
       "  </tbody>\n",
       "</table>\n",
       "</div>"
      ],
      "text/plain": [
       "                category                                               text  \\\n",
       "36603       Giày Dép Nam  Màu sắc:trắng kem\\nĐúng với mô tả:đúng\\n\\nÁo đ...   \n",
       "3041   Thời Trang Trẻ Em                            Đúng với mô tả:cungx dc   \n",
       "53202            Đồng Hồ  sản phẩm nhận đc giống như ảnh và giao hàng nh...   \n",
       "60510        Giày Dép Nữ  Quá xinh yêu luôn đó keo 😍 mà mang lâu cũng hơ...   \n",
       "12308        Giày Dép Nữ  Giày về vừa in chân luôn ạ.Chất liệu:vịn\\nMàu ...   \n",
       "\n",
       "      label                                  processed_comment  \n",
       "36603    CG  màu sắc:trắng kem\\nđúng với mô tả:đúng\\n\\náo đ...  \n",
       "3041     OR                            đúng với mô tả:cungx dc  \n",
       "53202    CG  sản phẩm nhận đc giống như ảnh và giao hàng nh...  \n",
       "60510    OR  quá xinh yêu luôn đó keo 😍 mà mang lâu cũng hơ...  \n",
       "12308    CG  giày về vừa in chân luôn ạ.chất liệu:vịn\\nmàu ...  "
      ]
     },
     "execution_count": 42,
     "metadata": {},
     "output_type": "execute_result"
    }
   ],
   "source": [
    "df['processed_comment'] = df['text'].astype(str).apply(lambda cmt : unicodedata.normalize('NFC', cmt.lower()))\n",
    "df.sample(5)"
   ]
  },
  {
   "cell_type": "markdown",
   "metadata": {},
   "source": [
    "# 3. Kiểm tra URL"
   ]
  },
  {
   "cell_type": "code",
   "execution_count": 43,
   "metadata": {
    "execution": {
     "iopub.execute_input": "2025-03-16T12:35:16.044194Z",
     "iopub.status.busy": "2025-03-16T12:35:16.043769Z",
     "iopub.status.idle": "2025-03-16T12:35:16.952890Z",
     "shell.execute_reply": "2025-03-16T12:35:16.951719Z",
     "shell.execute_reply.started": "2025-03-16T12:35:16.044159Z"
    },
    "trusted": true
   },
   "outputs": [
    {
     "data": {
      "text/html": [
       "<div>\n",
       "<style scoped>\n",
       "    .dataframe tbody tr th:only-of-type {\n",
       "        vertical-align: middle;\n",
       "    }\n",
       "\n",
       "    .dataframe tbody tr th {\n",
       "        vertical-align: top;\n",
       "    }\n",
       "\n",
       "    .dataframe thead th {\n",
       "        text-align: right;\n",
       "    }\n",
       "</style>\n",
       "<table border=\"1\" class=\"dataframe\">\n",
       "  <thead>\n",
       "    <tr style=\"text-align: right;\">\n",
       "      <th></th>\n",
       "      <th>category</th>\n",
       "      <th>text</th>\n",
       "      <th>label</th>\n",
       "      <th>processed_comment</th>\n",
       "      <th>contain_url</th>\n",
       "    </tr>\n",
       "  </thead>\n",
       "  <tbody>\n",
       "    <tr>\n",
       "      <th>2244</th>\n",
       "      <td>Đồng Hồ</td>\n",
       "      <td>https://vunhapho.com</td>\n",
       "      <td>OR</td>\n",
       "      <td>https://vunhapho.com</td>\n",
       "      <td>1</td>\n",
       "    </tr>\n",
       "    <tr>\n",
       "      <th>7568</th>\n",
       "      <td>Balo &amp; Túi Ví Nam</td>\n",
       "      <td>Nhận hàng nhanh \\nHttps://phuquyauto.com</td>\n",
       "      <td>OR</td>\n",
       "      <td>nhận hàng nhanh \\nhttps://phuquyauto.com</td>\n",
       "      <td>1</td>\n",
       "    </tr>\n",
       "    <tr>\n",
       "      <th>19896</th>\n",
       "      <td>Thời Trang Trẻ Em</td>\n",
       "      <td>Hinh ảnh video mang tchat.didong.vn/iphone/iph...</td>\n",
       "      <td>CG</td>\n",
       "      <td>hinh ảnh video mang tchat.didong.vn/iphone/iph...</td>\n",
       "      <td>1</td>\n",
       "    </tr>\n",
       "    <tr>\n",
       "      <th>29563</th>\n",
       "      <td>Balo &amp; Túi Ví Nam</td>\n",
       "      <td>Đúng với mô tả:ttfffgh\\n\\nHttp www.didongthocs...</td>\n",
       "      <td>CG</td>\n",
       "      <td>đúng với mô tả:ttfffgh\\n\\nhttp www.didongthocs...</td>\n",
       "      <td>1</td>\n",
       "    </tr>\n",
       "    <tr>\n",
       "      <th>33239</th>\n",
       "      <td>Balo &amp; Túi Ví Nam</td>\n",
       "      <td>Tạm ổn so với giá\\nAe mua giày ib ủng hộ nhé \\...</td>\n",
       "      <td>OR</td>\n",
       "      <td>tạm ổn so với giá\\nae mua giày ib ủng hộ nhé \\...</td>\n",
       "      <td>1</td>\n",
       "    </tr>\n",
       "  </tbody>\n",
       "</table>\n",
       "</div>"
      ],
      "text/plain": [
       "                category                                               text  \\\n",
       "2244             Đồng Hồ                               https://vunhapho.com   \n",
       "7568   Balo & Túi Ví Nam           Nhận hàng nhanh \\nHttps://phuquyauto.com   \n",
       "19896  Thời Trang Trẻ Em  Hinh ảnh video mang tchat.didong.vn/iphone/iph...   \n",
       "29563  Balo & Túi Ví Nam  Đúng với mô tả:ttfffgh\\n\\nHttp www.didongthocs...   \n",
       "33239  Balo & Túi Ví Nam  Tạm ổn so với giá\\nAe mua giày ib ủng hộ nhé \\...   \n",
       "\n",
       "      label                                  processed_comment  contain_url  \n",
       "2244     OR                               https://vunhapho.com            1  \n",
       "7568     OR           nhận hàng nhanh \\nhttps://phuquyauto.com            1  \n",
       "19896    CG  hinh ảnh video mang tchat.didong.vn/iphone/iph...            1  \n",
       "29563    CG  đúng với mô tả:ttfffgh\\n\\nhttp www.didongthocs...            1  \n",
       "33239    OR  tạm ổn so với giá\\nae mua giày ib ủng hộ nhé \\...            1  "
      ]
     },
     "execution_count": 43,
     "metadata": {},
     "output_type": "execute_result"
    }
   ],
   "source": [
    "df['contain_url'] = df['processed_comment'].apply(lambda cmt: int(bool(re.compile(URL).search(cmt))))\n",
    "df[df['contain_url'] == 1].head()"
   ]
  },
  {
   "cell_type": "markdown",
   "metadata": {},
   "source": [
    "Giữ lại các bình luận không chứ URL"
   ]
  },
  {
   "cell_type": "code",
   "execution_count": 44,
   "metadata": {
    "execution": {
     "iopub.execute_input": "2025-03-16T12:36:01.138297Z",
     "iopub.status.busy": "2025-03-16T12:36:01.137899Z",
     "iopub.status.idle": "2025-03-16T12:36:01.158798Z",
     "shell.execute_reply": "2025-03-16T12:36:01.157622Z",
     "shell.execute_reply.started": "2025-03-16T12:36:01.138261Z"
    },
    "trusted": true
   },
   "outputs": [
    {
     "data": {
      "text/html": [
       "<div>\n",
       "<style scoped>\n",
       "    .dataframe tbody tr th:only-of-type {\n",
       "        vertical-align: middle;\n",
       "    }\n",
       "\n",
       "    .dataframe tbody tr th {\n",
       "        vertical-align: top;\n",
       "    }\n",
       "\n",
       "    .dataframe thead th {\n",
       "        text-align: right;\n",
       "    }\n",
       "</style>\n",
       "<table border=\"1\" class=\"dataframe\">\n",
       "  <thead>\n",
       "    <tr style=\"text-align: right;\">\n",
       "      <th></th>\n",
       "      <th>category</th>\n",
       "      <th>text</th>\n",
       "      <th>label</th>\n",
       "      <th>processed_comment</th>\n",
       "      <th>contain_url</th>\n",
       "    </tr>\n",
       "  </thead>\n",
       "  <tbody>\n",
       "    <tr>\n",
       "      <th>0</th>\n",
       "      <td>Thời Trang Nữ</td>\n",
       "      <td>Siuu đẹp:))\\n</td>\n",
       "      <td>CG</td>\n",
       "      <td>siuu đẹp:))\\n</td>\n",
       "      <td>0</td>\n",
       "    </tr>\n",
       "    <tr>\n",
       "      <th>1</th>\n",
       "      <td>Thời Trang Nam</td>\n",
       "      <td>Dùng được so với giá tiền</td>\n",
       "      <td>CG</td>\n",
       "      <td>dùng được so với giá tiền</td>\n",
       "      <td>0</td>\n",
       "    </tr>\n",
       "    <tr>\n",
       "      <th>2</th>\n",
       "      <td>Túi Ví Nữ</td>\n",
       "      <td>Xinh lắm mn nên mua nha</td>\n",
       "      <td>CG</td>\n",
       "      <td>xinh lắm mn nên mua nha</td>\n",
       "      <td>0</td>\n",
       "    </tr>\n",
       "    <tr>\n",
       "      <th>3</th>\n",
       "      <td>Giày Dép Nam</td>\n",
       "      <td>Đẹp, rẻ nên mua nha</td>\n",
       "      <td>CG</td>\n",
       "      <td>đẹp, rẻ nên mua nha</td>\n",
       "      <td>0</td>\n",
       "    </tr>\n",
       "    <tr>\n",
       "      <th>4</th>\n",
       "      <td>Balo &amp; Túi Ví Nam</td>\n",
       "      <td>Giao hàg nhah k</td>\n",
       "      <td>CG</td>\n",
       "      <td>giao hàg nhah k</td>\n",
       "      <td>0</td>\n",
       "    </tr>\n",
       "  </tbody>\n",
       "</table>\n",
       "</div>"
      ],
      "text/plain": [
       "            category                       text label  \\\n",
       "0      Thời Trang Nữ              Siuu đẹp:))\\n    CG   \n",
       "1     Thời Trang Nam  Dùng được so với giá tiền    CG   \n",
       "2          Túi Ví Nữ    Xinh lắm mn nên mua nha    CG   \n",
       "3       Giày Dép Nam        Đẹp, rẻ nên mua nha    CG   \n",
       "4  Balo & Túi Ví Nam            Giao hàg nhah k    CG   \n",
       "\n",
       "           processed_comment  contain_url  \n",
       "0              siuu đẹp:))\\n            0  \n",
       "1  dùng được so với giá tiền            0  \n",
       "2    xinh lắm mn nên mua nha            0  \n",
       "3        đẹp, rẻ nên mua nha            0  \n",
       "4            giao hàg nhah k            0  "
      ]
     },
     "execution_count": 44,
     "metadata": {},
     "output_type": "execute_result"
    }
   ],
   "source": [
    "df = df[df['contain_url'] == 0]\n",
    "df.head()"
   ]
  },
  {
   "cell_type": "code",
   "execution_count": 45,
   "metadata": {
    "execution": {
     "iopub.execute_input": "2025-03-16T12:36:56.494464Z",
     "iopub.status.busy": "2025-03-16T12:36:56.494080Z",
     "iopub.status.idle": "2025-03-16T12:36:56.532860Z",
     "shell.execute_reply": "2025-03-16T12:36:56.531664Z",
     "shell.execute_reply.started": "2025-03-16T12:36:56.494432Z"
    },
    "trusted": true
   },
   "outputs": [
    {
     "data": {
      "text/plain": [
       "(67845, 4)"
      ]
     },
     "execution_count": 45,
     "metadata": {},
     "output_type": "execute_result"
    }
   ],
   "source": [
    "# xóa cột contain_url\n",
    "df = df.drop(columns=['contain_url']).reset_index(drop=True)\n",
    "df.shape"
   ]
  },
  {
   "cell_type": "code",
   "execution_count": 46,
   "metadata": {
    "execution": {
     "iopub.execute_input": "2025-03-16T12:37:06.786736Z",
     "iopub.status.busy": "2025-03-16T12:37:06.785714Z",
     "iopub.status.idle": "2025-03-16T12:37:06.799537Z",
     "shell.execute_reply": "2025-03-16T12:37:06.798060Z",
     "shell.execute_reply.started": "2025-03-16T12:37:06.786689Z"
    },
    "trusted": true
   },
   "outputs": [
    {
     "data": {
      "text/html": [
       "<div>\n",
       "<style scoped>\n",
       "    .dataframe tbody tr th:only-of-type {\n",
       "        vertical-align: middle;\n",
       "    }\n",
       "\n",
       "    .dataframe tbody tr th {\n",
       "        vertical-align: top;\n",
       "    }\n",
       "\n",
       "    .dataframe thead th {\n",
       "        text-align: right;\n",
       "    }\n",
       "</style>\n",
       "<table border=\"1\" class=\"dataframe\">\n",
       "  <thead>\n",
       "    <tr style=\"text-align: right;\">\n",
       "      <th></th>\n",
       "      <th>category</th>\n",
       "      <th>text</th>\n",
       "      <th>label</th>\n",
       "      <th>processed_comment</th>\n",
       "    </tr>\n",
       "  </thead>\n",
       "  <tbody>\n",
       "    <tr>\n",
       "      <th>0</th>\n",
       "      <td>Thời Trang Nữ</td>\n",
       "      <td>Siuu đẹp:))\\n</td>\n",
       "      <td>CG</td>\n",
       "      <td>siuu đẹp:))\\n</td>\n",
       "    </tr>\n",
       "    <tr>\n",
       "      <th>1</th>\n",
       "      <td>Thời Trang Nam</td>\n",
       "      <td>Dùng được so với giá tiền</td>\n",
       "      <td>CG</td>\n",
       "      <td>dùng được so với giá tiền</td>\n",
       "    </tr>\n",
       "    <tr>\n",
       "      <th>2</th>\n",
       "      <td>Túi Ví Nữ</td>\n",
       "      <td>Xinh lắm mn nên mua nha</td>\n",
       "      <td>CG</td>\n",
       "      <td>xinh lắm mn nên mua nha</td>\n",
       "    </tr>\n",
       "    <tr>\n",
       "      <th>3</th>\n",
       "      <td>Giày Dép Nam</td>\n",
       "      <td>Đẹp, rẻ nên mua nha</td>\n",
       "      <td>CG</td>\n",
       "      <td>đẹp, rẻ nên mua nha</td>\n",
       "    </tr>\n",
       "    <tr>\n",
       "      <th>4</th>\n",
       "      <td>Balo &amp; Túi Ví Nam</td>\n",
       "      <td>Giao hàg nhah k</td>\n",
       "      <td>CG</td>\n",
       "      <td>giao hàg nhah k</td>\n",
       "    </tr>\n",
       "  </tbody>\n",
       "</table>\n",
       "</div>"
      ],
      "text/plain": [
       "            category                       text label  \\\n",
       "0      Thời Trang Nữ              Siuu đẹp:))\\n    CG   \n",
       "1     Thời Trang Nam  Dùng được so với giá tiền    CG   \n",
       "2          Túi Ví Nữ    Xinh lắm mn nên mua nha    CG   \n",
       "3       Giày Dép Nam        Đẹp, rẻ nên mua nha    CG   \n",
       "4  Balo & Túi Ví Nam            Giao hàg nhah k    CG   \n",
       "\n",
       "           processed_comment  \n",
       "0              siuu đẹp:))\\n  \n",
       "1  dùng được so với giá tiền  \n",
       "2    xinh lắm mn nên mua nha  \n",
       "3        đẹp, rẻ nên mua nha  \n",
       "4            giao hàg nhah k  "
      ]
     },
     "execution_count": 46,
     "metadata": {},
     "output_type": "execute_result"
    }
   ],
   "source": [
    "df.head()"
   ]
  },
  {
   "cell_type": "markdown",
   "metadata": {},
   "source": [
    "# 4. Loại bỏ các ký tự đặt biệt"
   ]
  },
  {
   "cell_type": "code",
   "execution_count": 47,
   "metadata": {
    "execution": {
     "iopub.execute_input": "2025-03-16T12:37:13.543985Z",
     "iopub.status.busy": "2025-03-16T12:37:13.542790Z",
     "iopub.status.idle": "2025-03-16T12:37:15.046983Z",
     "shell.execute_reply": "2025-03-16T12:37:15.045155Z",
     "shell.execute_reply.started": "2025-03-16T12:37:13.543921Z"
    },
    "trusted": true
   },
   "outputs": [
    {
     "data": {
      "text/html": [
       "<div>\n",
       "<style scoped>\n",
       "    .dataframe tbody tr th:only-of-type {\n",
       "        vertical-align: middle;\n",
       "    }\n",
       "\n",
       "    .dataframe tbody tr th {\n",
       "        vertical-align: top;\n",
       "    }\n",
       "\n",
       "    .dataframe thead th {\n",
       "        text-align: right;\n",
       "    }\n",
       "</style>\n",
       "<table border=\"1\" class=\"dataframe\">\n",
       "  <thead>\n",
       "    <tr style=\"text-align: right;\">\n",
       "      <th></th>\n",
       "      <th>category</th>\n",
       "      <th>text</th>\n",
       "      <th>label</th>\n",
       "      <th>processed_comment</th>\n",
       "    </tr>\n",
       "  </thead>\n",
       "  <tbody>\n",
       "    <tr>\n",
       "      <th>17321</th>\n",
       "      <td>Balo &amp; Túi Ví Nam</td>\n",
       "      <td>Đúng với mô tả:đúng vs mô tả\\nChất liệu:vải\\n\\...</td>\n",
       "      <td>CG</td>\n",
       "      <td>đúng với mô tả đúng vs mô tả chất liệu vải sản...</td>\n",
       "    </tr>\n",
       "    <tr>\n",
       "      <th>39326</th>\n",
       "      <td>Thời Trang Nữ</td>\n",
       "      <td>Hình ảnh và video chỉ mang tính chất nhận xu, ...</td>\n",
       "      <td>CG</td>\n",
       "      <td>hình ảnh và video chỉ mang tính chất nhận xu g...</td>\n",
       "    </tr>\n",
       "    <tr>\n",
       "      <th>23554</th>\n",
       "      <td>Thời Trang Trẻ Em</td>\n",
       "      <td>Mua lần thứ n , săn đc mã giảm giá trên live n...</td>\n",
       "      <td>OR</td>\n",
       "      <td>mua lần thứ n săn đc mã giảm giá trên live nên...</td>\n",
       "    </tr>\n",
       "    <tr>\n",
       "      <th>24593</th>\n",
       "      <td>Balo &amp; Túi Ví Nam</td>\n",
       "      <td>Túi đẹp đựng vừa in hình ảnh và video. Giao hà...</td>\n",
       "      <td>CG</td>\n",
       "      <td>túi đẹp đựng vừa in hình ảnh và video giao hàn...</td>\n",
       "    </tr>\n",
       "    <tr>\n",
       "      <th>22808</th>\n",
       "      <td>Giày Dép Nam</td>\n",
       "      <td>Dép rất đẹp luôn ạ, săn sale có 12k cực kỳ rẻ....</td>\n",
       "      <td>OR</td>\n",
       "      <td>dép rất đẹp luôn ạ săn sale có k cực kỳ rẻ sho...</td>\n",
       "    </tr>\n",
       "  </tbody>\n",
       "</table>\n",
       "</div>"
      ],
      "text/plain": [
       "                category                                               text  \\\n",
       "17321  Balo & Túi Ví Nam  Đúng với mô tả:đúng vs mô tả\\nChất liệu:vải\\n\\...   \n",
       "39326      Thời Trang Nữ  Hình ảnh và video chỉ mang tính chất nhận xu, ...   \n",
       "23554  Thời Trang Trẻ Em  Mua lần thứ n , săn đc mã giảm giá trên live n...   \n",
       "24593  Balo & Túi Ví Nam  Túi đẹp đựng vừa in hình ảnh và video. Giao hà...   \n",
       "22808       Giày Dép Nam  Dép rất đẹp luôn ạ, săn sale có 12k cực kỳ rẻ....   \n",
       "\n",
       "      label                                  processed_comment  \n",
       "17321    CG  đúng với mô tả đúng vs mô tả chất liệu vải sản...  \n",
       "39326    CG  hình ảnh và video chỉ mang tính chất nhận xu g...  \n",
       "23554    OR  mua lần thứ n săn đc mã giảm giá trên live nên...  \n",
       "24593    CG  túi đẹp đựng vừa in hình ảnh và video giao hàn...  \n",
       "22808    OR  dép rất đẹp luôn ạ săn sale có k cực kỳ rẻ sho...  "
      ]
     },
     "execution_count": 47,
     "metadata": {},
     "output_type": "execute_result"
    }
   ],
   "source": [
    "df['processed_comment'] = df['processed_comment'].apply(lambda cmt: re.compile(r'\\s+').sub(' ', re.compile(UTF8_LOWER).sub(' ', cmt)))\n",
    "df.sample(5)"
   ]
  },
  {
   "cell_type": "markdown",
   "metadata": {},
   "source": [
    "# 5. Loại bỏ các ký tự bị lặp trong một chữ"
   ]
  },
  {
   "cell_type": "code",
   "execution_count": 48,
   "metadata": {
    "execution": {
     "iopub.execute_input": "2025-03-16T12:37:52.061356Z",
     "iopub.status.busy": "2025-03-16T12:37:52.060897Z",
     "iopub.status.idle": "2025-03-16T12:37:52.893269Z",
     "shell.execute_reply": "2025-03-16T12:37:52.892177Z",
     "shell.execute_reply.started": "2025-03-16T12:37:52.061318Z"
    },
    "trusted": true
   },
   "outputs": [
    {
     "data": {
      "text/html": [
       "<div>\n",
       "<style scoped>\n",
       "    .dataframe tbody tr th:only-of-type {\n",
       "        vertical-align: middle;\n",
       "    }\n",
       "\n",
       "    .dataframe tbody tr th {\n",
       "        vertical-align: top;\n",
       "    }\n",
       "\n",
       "    .dataframe thead th {\n",
       "        text-align: right;\n",
       "    }\n",
       "</style>\n",
       "<table border=\"1\" class=\"dataframe\">\n",
       "  <thead>\n",
       "    <tr style=\"text-align: right;\">\n",
       "      <th></th>\n",
       "      <th>category</th>\n",
       "      <th>text</th>\n",
       "      <th>label</th>\n",
       "      <th>processed_comment</th>\n",
       "    </tr>\n",
       "  </thead>\n",
       "  <tbody>\n",
       "    <tr>\n",
       "      <th>43923</th>\n",
       "      <td>Giày Dép Nữ</td>\n",
       "      <td>Màu sắc:màu sắcccc màuuuuu kemm\\nĐúng với mô t...</td>\n",
       "      <td>OR</td>\n",
       "      <td>màu sắc màu sắc màu kem đúng với mô tả đúng vớ...</td>\n",
       "    </tr>\n",
       "    <tr>\n",
       "      <th>18918</th>\n",
       "      <td>Đồng Hồ</td>\n",
       "      <td>Chất lượng: tốt\\nTương tự như ad: vâng\\n\\nĐồng...</td>\n",
       "      <td>OR</td>\n",
       "      <td>chất lượng tốt tương tự như ad vâng đồng hồ đơ...</td>\n",
       "    </tr>\n",
       "    <tr>\n",
       "      <th>889</th>\n",
       "      <td>Giày Dép Nữ</td>\n",
       "      <td>Đúng với mô tả:đúng\\n</td>\n",
       "      <td>CG</td>\n",
       "      <td>đúng với mô tả đúng</td>\n",
       "    </tr>\n",
       "    <tr>\n",
       "      <th>40488</th>\n",
       "      <td>Balo &amp; Túi Ví Nam</td>\n",
       "      <td>Màu sắc:đe\\nChất liệu:tốt\\n\\nHình ảnh chỉ mang...</td>\n",
       "      <td>OR</td>\n",
       "      <td>màu sắc đe chất liệu tốt hình ảnh chỉ mang tín...</td>\n",
       "    </tr>\n",
       "    <tr>\n",
       "      <th>53015</th>\n",
       "      <td>Túi Ví Nữ</td>\n",
       "      <td>Chất lượng: tốt\\nPhù hợp với hình ảnh: có\\n\\nN...</td>\n",
       "      <td>OR</td>\n",
       "      <td>chất lượng tốt phù hợp với hình ảnh có người b...</td>\n",
       "    </tr>\n",
       "  </tbody>\n",
       "</table>\n",
       "</div>"
      ],
      "text/plain": [
       "                category                                               text  \\\n",
       "43923        Giày Dép Nữ  Màu sắc:màu sắcccc màuuuuu kemm\\nĐúng với mô t...   \n",
       "18918            Đồng Hồ  Chất lượng: tốt\\nTương tự như ad: vâng\\n\\nĐồng...   \n",
       "889          Giày Dép Nữ                              Đúng với mô tả:đúng\\n   \n",
       "40488  Balo & Túi Ví Nam  Màu sắc:đe\\nChất liệu:tốt\\n\\nHình ảnh chỉ mang...   \n",
       "53015          Túi Ví Nữ  Chất lượng: tốt\\nPhù hợp với hình ảnh: có\\n\\nN...   \n",
       "\n",
       "      label                                  processed_comment  \n",
       "43923    OR  màu sắc màu sắc màu kem đúng với mô tả đúng vớ...  \n",
       "18918    OR  chất lượng tốt tương tự như ad vâng đồng hồ đơ...  \n",
       "889      CG                               đúng với mô tả đúng   \n",
       "40488    OR  màu sắc đe chất liệu tốt hình ảnh chỉ mang tín...  \n",
       "53015    OR  chất lượng tốt phù hợp với hình ảnh có người b...  "
      ]
     },
     "execution_count": 48,
     "metadata": {},
     "output_type": "execute_result"
    }
   ],
   "source": [
    "df['processed_comment'] = df['processed_comment'].apply(lambda cmt: re.compile(r'(.)\\1+').sub(r'\\1', cmt))\n",
    "df.sample(5)"
   ]
  },
  {
   "cell_type": "markdown",
   "metadata": {},
   "source": [
    "# 6. Thay thế các từ viết tắt "
   ]
  },
  {
   "cell_type": "markdown",
   "metadata": {
    "execution": {
     "iopub.execute_input": "2024-12-16T14:05:28.145138Z",
     "iopub.status.busy": "2024-12-16T14:05:28.144601Z",
     "iopub.status.idle": "2024-12-16T14:05:28.153476Z",
     "shell.execute_reply": "2024-12-16T14:05:28.151999Z",
     "shell.execute_reply.started": "2024-12-16T14:05:28.145098Z"
    }
   },
   "source": [
    "1. Xây dựng từ điển cho các từ viết tắt\n"
   ]
  },
  {
   "cell_type": "code",
   "execution_count": 49,
   "metadata": {
    "execution": {
     "iopub.execute_input": "2025-03-16T12:37:55.745127Z",
     "iopub.status.busy": "2025-03-16T12:37:55.744022Z",
     "iopub.status.idle": "2025-03-16T12:37:55.930185Z",
     "shell.execute_reply": "2025-03-16T12:37:55.929064Z",
     "shell.execute_reply.started": "2025-03-16T12:37:55.745083Z"
    },
    "trusted": true
   },
   "outputs": [
    {
     "data": {
      "text/plain": [
       "'chưa'"
      ]
     },
     "execution_count": 49,
     "metadata": {},
     "output_type": "execute_result"
    }
   ],
   "source": [
    "file = open('teencode.txt', 'r', encoding=\"utf8\")\n",
    "teen_lst = file.read().split('\\n')\n",
    "teen_dict = {}\n",
    "for line in teen_lst:\n",
    "    key, value = line.split('\\t')\n",
    "    teen_dict[key] = str(value)\n",
    "file.close()\n",
    "\n",
    "# test\n",
    "df['processed_comment'] = df['processed_comment'].apply(lambda cmt : unicodedata.normalize('NFC', cmt.lower())) # chuẩn hóa unicode lần nữa\n",
    "teen_dict['ch']"
   ]
  },
  {
   "cell_type": "markdown",
   "metadata": {},
   "source": [
    "2. Thay thế các từ viết tắt trong df"
   ]
  },
  {
   "cell_type": "code",
   "execution_count": 66,
   "metadata": {
    "execution": {
     "iopub.execute_input": "2025-03-16T12:38:02.852656Z",
     "iopub.status.busy": "2025-03-16T12:38:02.852239Z",
     "iopub.status.idle": "2025-03-16T12:38:07.607173Z",
     "shell.execute_reply": "2025-03-16T12:38:07.605898Z",
     "shell.execute_reply.started": "2025-03-16T12:38:02.852617Z"
    },
    "trusted": true
   },
   "outputs": [
    {
     "data": {
      "text/html": [
       "<div>\n",
       "<style scoped>\n",
       "    .dataframe tbody tr th:only-of-type {\n",
       "        vertical-align: middle;\n",
       "    }\n",
       "\n",
       "    .dataframe tbody tr th {\n",
       "        vertical-align: top;\n",
       "    }\n",
       "\n",
       "    .dataframe thead th {\n",
       "        text-align: right;\n",
       "    }\n",
       "</style>\n",
       "<table border=\"1\" class=\"dataframe\">\n",
       "  <thead>\n",
       "    <tr style=\"text-align: right;\">\n",
       "      <th></th>\n",
       "      <th>category</th>\n",
       "      <th>text</th>\n",
       "      <th>label</th>\n",
       "      <th>processed_comment</th>\n",
       "    </tr>\n",
       "  </thead>\n",
       "  <tbody>\n",
       "    <tr>\n",
       "      <th>0</th>\n",
       "      <td>Thời Trang Nữ</td>\n",
       "      <td>Siuu đẹp:))\\n</td>\n",
       "      <td>CG</td>\n",
       "      <td>siu đẹp</td>\n",
       "    </tr>\n",
       "    <tr>\n",
       "      <th>1</th>\n",
       "      <td>Thời Trang Nam</td>\n",
       "      <td>Dùng được so với giá tiền</td>\n",
       "      <td>CG</td>\n",
       "      <td>dùng được so với giá tiền</td>\n",
       "    </tr>\n",
       "    <tr>\n",
       "      <th>2</th>\n",
       "      <td>Túi Ví Nữ</td>\n",
       "      <td>Xinh lắm mn nên mua nha</td>\n",
       "      <td>CG</td>\n",
       "      <td>xinh lắm mọi người nên mua nha</td>\n",
       "    </tr>\n",
       "    <tr>\n",
       "      <th>3</th>\n",
       "      <td>Giày Dép Nam</td>\n",
       "      <td>Đẹp, rẻ nên mua nha</td>\n",
       "      <td>CG</td>\n",
       "      <td>đẹp rẻ nên mua nha</td>\n",
       "    </tr>\n",
       "    <tr>\n",
       "      <th>4</th>\n",
       "      <td>Balo &amp; Túi Ví Nam</td>\n",
       "      <td>Giao hàg nhah k</td>\n",
       "      <td>CG</td>\n",
       "      <td>giao hàg nhah không</td>\n",
       "    </tr>\n",
       "  </tbody>\n",
       "</table>\n",
       "</div>"
      ],
      "text/plain": [
       "            category                       text label  \\\n",
       "0      Thời Trang Nữ              Siuu đẹp:))\\n    CG   \n",
       "1     Thời Trang Nam  Dùng được so với giá tiền    CG   \n",
       "2          Túi Ví Nữ    Xinh lắm mn nên mua nha    CG   \n",
       "3       Giày Dép Nam        Đẹp, rẻ nên mua nha    CG   \n",
       "4  Balo & Túi Ví Nam            Giao hàg nhah k    CG   \n",
       "\n",
       "                processed_comment  \n",
       "0                        siu đẹp   \n",
       "1       dùng được so với giá tiền  \n",
       "2  xinh lắm mọi người nên mua nha  \n",
       "3              đẹp rẻ nên mua nha  \n",
       "4             giao hàg nhah không  "
      ]
     },
     "execution_count": 66,
     "metadata": {},
     "output_type": "execute_result"
    }
   ],
   "source": [
    "def replaceTeencode(cmt, teen_dict):\n",
    "    words = cmt.split()\n",
    "    for word in words:\n",
    "        if word in teen_dict:\n",
    "            cmt = cmt.replace(word, teen_dict[word])\n",
    "    return cmt\n",
    "\n",
    "df['processed_comment'] = df['processed_comment'].apply(lambda cmt: replaceTeencode(cmt, teen_dict))\n",
    "df.head()"
   ]
  },
  {
   "cell_type": "code",
   "execution_count": 72,
   "metadata": {
    "execution": {
     "iopub.execute_input": "2025-03-16T12:41:35.006895Z",
     "iopub.status.busy": "2025-03-16T12:41:35.006319Z",
     "iopub.status.idle": "2025-03-16T12:41:35.023897Z",
     "shell.execute_reply": "2025-03-16T12:41:35.022584Z",
     "shell.execute_reply.started": "2025-03-16T12:41:35.006815Z"
    },
    "trusted": true
   },
   "outputs": [
    {
     "data": {
      "text/html": [
       "<div>\n",
       "<style scoped>\n",
       "    .dataframe tbody tr th:only-of-type {\n",
       "        vertical-align: middle;\n",
       "    }\n",
       "\n",
       "    .dataframe tbody tr th {\n",
       "        vertical-align: top;\n",
       "    }\n",
       "\n",
       "    .dataframe thead th {\n",
       "        text-align: right;\n",
       "    }\n",
       "</style>\n",
       "<table border=\"1\" class=\"dataframe\">\n",
       "  <thead>\n",
       "    <tr style=\"text-align: right;\">\n",
       "      <th></th>\n",
       "      <th>category</th>\n",
       "      <th>label</th>\n",
       "      <th>processed_comment</th>\n",
       "    </tr>\n",
       "  </thead>\n",
       "  <tbody>\n",
       "    <tr>\n",
       "      <th>0</th>\n",
       "      <td>Thời Trang Nữ</td>\n",
       "      <td>CG</td>\n",
       "      <td>siu đẹp</td>\n",
       "    </tr>\n",
       "    <tr>\n",
       "      <th>1</th>\n",
       "      <td>Thời Trang Nam</td>\n",
       "      <td>CG</td>\n",
       "      <td>dùng được so với giá tiền</td>\n",
       "    </tr>\n",
       "    <tr>\n",
       "      <th>2</th>\n",
       "      <td>Túi Ví Nữ</td>\n",
       "      <td>CG</td>\n",
       "      <td>xinh lắm mọi người nên mua nha</td>\n",
       "    </tr>\n",
       "    <tr>\n",
       "      <th>3</th>\n",
       "      <td>Giày Dép Nam</td>\n",
       "      <td>CG</td>\n",
       "      <td>đẹp rẻ nên mua nha</td>\n",
       "    </tr>\n",
       "    <tr>\n",
       "      <th>4</th>\n",
       "      <td>Balo &amp; Túi Ví Nam</td>\n",
       "      <td>CG</td>\n",
       "      <td>giao hàg nhah không</td>\n",
       "    </tr>\n",
       "  </tbody>\n",
       "</table>\n",
       "</div>"
      ],
      "text/plain": [
       "            category label               processed_comment\n",
       "0      Thời Trang Nữ    CG                        siu đẹp \n",
       "1     Thời Trang Nam    CG       dùng được so với giá tiền\n",
       "2          Túi Ví Nữ    CG  xinh lắm mọi người nên mua nha\n",
       "3       Giày Dép Nam    CG              đẹp rẻ nên mua nha\n",
       "4  Balo & Túi Ví Nam    CG             giao hàg nhah không"
      ]
     },
     "execution_count": 72,
     "metadata": {},
     "output_type": "execute_result"
    }
   ],
   "source": [
    "df = df.drop(columns = 'text')\n",
    "df.head()"
   ]
  },
  {
   "cell_type": "code",
   "execution_count": 73,
   "metadata": {
    "execution": {
     "iopub.execute_input": "2025-03-16T12:42:17.808459Z",
     "iopub.status.busy": "2025-03-16T12:42:17.807983Z",
     "iopub.status.idle": "2025-03-16T12:42:17.823082Z",
     "shell.execute_reply": "2025-03-16T12:42:17.821556Z",
     "shell.execute_reply.started": "2025-03-16T12:42:17.808415Z"
    },
    "trusted": true
   },
   "outputs": [
    {
     "data": {
      "text/html": [
       "<div>\n",
       "<style scoped>\n",
       "    .dataframe tbody tr th:only-of-type {\n",
       "        vertical-align: middle;\n",
       "    }\n",
       "\n",
       "    .dataframe tbody tr th {\n",
       "        vertical-align: top;\n",
       "    }\n",
       "\n",
       "    .dataframe thead th {\n",
       "        text-align: right;\n",
       "    }\n",
       "</style>\n",
       "<table border=\"1\" class=\"dataframe\">\n",
       "  <thead>\n",
       "    <tr style=\"text-align: right;\">\n",
       "      <th></th>\n",
       "      <th>category</th>\n",
       "      <th>label</th>\n",
       "      <th>text</th>\n",
       "    </tr>\n",
       "  </thead>\n",
       "  <tbody>\n",
       "    <tr>\n",
       "      <th>0</th>\n",
       "      <td>Thời Trang Nữ</td>\n",
       "      <td>CG</td>\n",
       "      <td>siu đẹp</td>\n",
       "    </tr>\n",
       "    <tr>\n",
       "      <th>1</th>\n",
       "      <td>Thời Trang Nam</td>\n",
       "      <td>CG</td>\n",
       "      <td>dùng được so với giá tiền</td>\n",
       "    </tr>\n",
       "    <tr>\n",
       "      <th>2</th>\n",
       "      <td>Túi Ví Nữ</td>\n",
       "      <td>CG</td>\n",
       "      <td>xinh lắm mọi người nên mua nha</td>\n",
       "    </tr>\n",
       "    <tr>\n",
       "      <th>3</th>\n",
       "      <td>Giày Dép Nam</td>\n",
       "      <td>CG</td>\n",
       "      <td>đẹp rẻ nên mua nha</td>\n",
       "    </tr>\n",
       "    <tr>\n",
       "      <th>4</th>\n",
       "      <td>Balo &amp; Túi Ví Nam</td>\n",
       "      <td>CG</td>\n",
       "      <td>giao hàg nhah không</td>\n",
       "    </tr>\n",
       "  </tbody>\n",
       "</table>\n",
       "</div>"
      ],
      "text/plain": [
       "            category label                            text\n",
       "0      Thời Trang Nữ    CG                        siu đẹp \n",
       "1     Thời Trang Nam    CG       dùng được so với giá tiền\n",
       "2          Túi Ví Nữ    CG  xinh lắm mọi người nên mua nha\n",
       "3       Giày Dép Nam    CG              đẹp rẻ nên mua nha\n",
       "4  Balo & Túi Ví Nam    CG             giao hàg nhah không"
      ]
     },
     "execution_count": 73,
     "metadata": {},
     "output_type": "execute_result"
    }
   ],
   "source": [
    "df.columns = ['category', 'label', 'text']\n",
    "df.head()"
   ]
  },
  {
   "cell_type": "code",
   "execution_count": 74,
   "metadata": {
    "execution": {
     "iopub.execute_input": "2025-03-16T12:42:21.212685Z",
     "iopub.status.busy": "2025-03-16T12:42:21.211955Z",
     "iopub.status.idle": "2025-03-16T12:42:21.616030Z",
     "shell.execute_reply": "2025-03-16T12:42:21.614725Z",
     "shell.execute_reply.started": "2025-03-16T12:42:21.212621Z"
    },
    "trusted": true
   },
   "outputs": [],
   "source": [
    "df.to_csv(\"cleaned_data.csv\",encoding='utf-8')"
   ]
  }
 ],
 "metadata": {
  "kaggle": {
   "accelerator": "none",
   "dataSources": [
    {
     "datasetId": 6200428,
     "sourceId": 10080211,
     "sourceType": "datasetVersion"
    },
    {
     "datasetId": 6309954,
     "sourceId": 10217711,
     "sourceType": "datasetVersion"
    }
   ],
   "dockerImageVersionId": 30804,
   "isGpuEnabled": false,
   "isInternetEnabled": true,
   "language": "python",
   "sourceType": "notebook"
  },
  "kernelspec": {
   "display_name": "Python 3",
   "language": "python",
   "name": "python3"
  },
  "language_info": {
   "codemirror_mode": {
    "name": "ipython",
    "version": 3
   },
   "file_extension": ".py",
   "mimetype": "text/x-python",
   "name": "python",
   "nbconvert_exporter": "python",
   "pygments_lexer": "ipython3",
   "version": "3.12.9"
  }
 },
 "nbformat": 4,
 "nbformat_minor": 4
}
