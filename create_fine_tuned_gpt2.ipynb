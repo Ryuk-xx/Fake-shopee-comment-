{
 "cells": [
  {
   "cell_type": "code",
   "execution_count": null,
   "metadata": {
    "execution": {
     "iopub.execute_input": "2025-03-11T11:41:40.839043Z",
     "iopub.status.busy": "2025-03-11T11:41:40.838585Z",
     "iopub.status.idle": "2025-03-11T11:41:59.212177Z",
     "shell.execute_reply": "2025-03-11T11:41:59.211503Z",
     "shell.execute_reply.started": "2025-03-11T11:41:40.839018Z"
    },
    "trusted": true
   },
   "outputs": [],
   "source": [
    "from transformers import GPT2LMHeadModel, GPT2TokenizerFast\n",
    "from fastai.text.all import *\n",
    "import pandas as pd\n",
    "import numpy as np\n",
    "import torch"
   ]
  },
  {
   "cell_type": "markdown",
   "metadata": {},
   "source": [
    "# Data"
   ]
  },
  {
   "cell_type": "code",
   "execution_count": null,
   "metadata": {
    "execution": {
     "iopub.execute_input": "2025-03-11T11:42:04.807975Z",
     "iopub.status.busy": "2025-03-11T11:42:04.807594Z",
     "iopub.status.idle": "2025-03-11T11:42:05.227180Z",
     "shell.execute_reply": "2025-03-11T11:42:05.226528Z",
     "shell.execute_reply.started": "2025-03-11T11:42:04.807945Z"
    },
    "trusted": true
   },
   "outputs": [],
   "source": [
    "path_data = r'shopee_data\\new_shopee_1.csv'\n",
    "df = pd.read_csv(path_data)\n",
    "df = df.drop(columns=['father_name']).rename(columns={'comment':'reviewText'})"
   ]
  },
  {
   "cell_type": "code",
   "execution_count": null,
   "metadata": {
    "execution": {
     "iopub.execute_input": "2025-03-11T11:42:05.779038Z",
     "iopub.status.busy": "2025-03-11T11:42:05.778771Z",
     "iopub.status.idle": "2025-03-11T11:42:05.793626Z",
     "shell.execute_reply": "2025-03-11T11:42:05.792932Z",
     "shell.execute_reply.started": "2025-03-11T11:42:05.779016Z"
    },
    "trusted": true
   },
   "outputs": [],
   "source": [
    "from sklearn.model_selection import train_test_split\n",
    "\n",
    "df_train, df_valid = train_test_split(df, random_state=2021, test_size=0.1)"
   ]
  },
  {
   "cell_type": "code",
   "execution_count": null,
   "metadata": {
    "execution": {
     "iopub.execute_input": "2025-03-11T11:42:05.795997Z",
     "iopub.status.busy": "2025-03-11T11:42:05.795729Z",
     "iopub.status.idle": "2025-03-11T11:42:05.801528Z",
     "shell.execute_reply": "2025-03-11T11:42:05.800861Z",
     "shell.execute_reply.started": "2025-03-11T11:42:05.795976Z"
    },
    "trusted": true
   },
   "outputs": [],
   "source": [
    "all_texts = np.concatenate([df_train[\"reviewText\"].values, df_valid[\"reviewText\"].values])"
   ]
  },
  {
   "cell_type": "code",
   "execution_count": null,
   "metadata": {
    "execution": {
     "iopub.execute_input": "2025-03-11T11:42:05.802682Z",
     "iopub.status.busy": "2025-03-11T11:42:05.802377Z",
     "iopub.status.idle": "2025-03-11T11:42:05.816798Z",
     "shell.execute_reply": "2025-03-11T11:42:05.815981Z",
     "shell.execute_reply.started": "2025-03-11T11:42:05.802654Z"
    },
    "trusted": true
   },
   "outputs": [],
   "source": [
    "all_texts.shape"
   ]
  },
  {
   "cell_type": "markdown",
   "metadata": {},
   "source": [
    "# Model"
   ]
  },
  {
   "cell_type": "code",
   "execution_count": null,
   "metadata": {
    "execution": {
     "iopub.execute_input": "2025-03-11T11:41:59.213916Z",
     "iopub.status.busy": "2025-03-11T11:41:59.213346Z",
     "iopub.status.idle": "2025-03-11T11:42:04.805557Z",
     "shell.execute_reply": "2025-03-11T11:42:04.804402Z",
     "shell.execute_reply.started": "2025-03-11T11:41:59.213883Z"
    },
    "trusted": true
   },
   "outputs": [],
   "source": [
    "pretrained_weights = 'NlpHUST/gpt2-vietnamese'\n",
    "tokenizer = GPT2TokenizerFast.from_pretrained(pretrained_weights)\n",
    "model = GPT2LMHeadModel.from_pretrained(pretrained_weights)"
   ]
  },
  {
   "cell_type": "code",
   "execution_count": null,
   "metadata": {
    "execution": {
     "iopub.execute_input": "2025-03-11T11:42:05.818083Z",
     "iopub.status.busy": "2025-03-11T11:42:05.817780Z",
     "iopub.status.idle": "2025-03-11T11:42:05.830661Z",
     "shell.execute_reply": "2025-03-11T11:42:05.829643Z",
     "shell.execute_reply.started": "2025-03-11T11:42:05.818054Z"
    },
    "trusted": true
   },
   "outputs": [],
   "source": [
    "class TransformersTokenizer(Transform):\n",
    "    def __init__(self, tokenizer): self.tokenizer = tokenizer\n",
    "    def encodes(self, x): \n",
    "        toks = self.tokenizer.tokenize(x)\n",
    "        return tensor(self.tokenizer.convert_tokens_to_ids(toks))\n",
    "    def decodes(self, x): return TitledStr(self.tokenizer.decode(x.cpu().numpy()))"
   ]
  },
  {
   "cell_type": "code",
   "execution_count": null,
   "metadata": {
    "execution": {
     "iopub.execute_input": "2025-03-11T11:42:05.831944Z",
     "iopub.status.busy": "2025-03-11T11:42:05.831638Z",
     "iopub.status.idle": "2025-03-11T11:42:05.880390Z",
     "shell.execute_reply": "2025-03-11T11:42:05.879487Z",
     "shell.execute_reply.started": "2025-03-11T11:42:05.831896Z"
    },
    "trusted": true
   },
   "outputs": [],
   "source": [
    "splits = [list(df_train.index), list(df_valid.index)]\n",
    "tls = TfmdLists(all_texts, TransformersTokenizer(tokenizer), splits=splits, dl_type=LMDataLoader)"
   ]
  },
  {
   "cell_type": "code",
   "execution_count": null,
   "metadata": {
    "execution": {
     "iopub.execute_input": "2025-03-11T11:42:05.881651Z",
     "iopub.status.busy": "2025-03-11T11:42:05.881348Z",
     "iopub.status.idle": "2025-03-11T11:42:05.906826Z",
     "shell.execute_reply": "2025-03-11T11:42:05.905920Z",
     "shell.execute_reply.started": "2025-03-11T11:42:05.881587Z"
    },
    "trusted": true
   },
   "outputs": [],
   "source": [
    "tls.train[0]"
   ]
  },
  {
   "cell_type": "code",
   "execution_count": null,
   "metadata": {
    "execution": {
     "iopub.execute_input": "2025-03-11T11:42:05.908020Z",
     "iopub.status.busy": "2025-03-11T11:42:05.907714Z",
     "iopub.status.idle": "2025-03-11T11:42:05.919904Z",
     "shell.execute_reply": "2025-03-11T11:42:05.918998Z",
     "shell.execute_reply.started": "2025-03-11T11:42:05.907998Z"
    },
    "trusted": true
   },
   "outputs": [],
   "source": [
    "tls.valid[0]"
   ]
  },
  {
   "cell_type": "code",
   "execution_count": null,
   "metadata": {
    "execution": {
     "iopub.execute_input": "2025-03-11T11:42:05.921306Z",
     "iopub.status.busy": "2025-03-11T11:42:05.920895Z",
     "iopub.status.idle": "2025-03-11T11:42:05.945432Z",
     "shell.execute_reply": "2025-03-11T11:42:05.944529Z",
     "shell.execute_reply.started": "2025-03-11T11:42:05.921276Z"
    },
    "trusted": true
   },
   "outputs": [],
   "source": [
    "tls.train.items[0]"
   ]
  },
  {
   "cell_type": "code",
   "execution_count": null,
   "metadata": {
    "execution": {
     "iopub.execute_input": "2025-03-11T11:42:05.946796Z",
     "iopub.status.busy": "2025-03-11T11:42:05.946437Z",
     "iopub.status.idle": "2025-03-11T11:42:05.979579Z",
     "shell.execute_reply": "2025-03-11T11:42:05.978852Z",
     "shell.execute_reply.started": "2025-03-11T11:42:05.946766Z"
    },
    "trusted": true
   },
   "outputs": [],
   "source": [
    "tls.tfms(tls.train.items[0]).shape, tls.tfms(tls.valid.items[0]).shape"
   ]
  },
  {
   "cell_type": "code",
   "execution_count": null,
   "metadata": {
    "execution": {
     "iopub.execute_input": "2025-03-11T11:42:05.981141Z",
     "iopub.status.busy": "2025-03-11T11:42:05.980848Z",
     "iopub.status.idle": "2025-03-11T11:42:05.997147Z",
     "shell.execute_reply": "2025-03-11T11:42:05.996450Z",
     "shell.execute_reply.started": "2025-03-11T11:42:05.981120Z"
    },
    "trusted": true
   },
   "outputs": [],
   "source": [
    "show_at(tls.train, 0)"
   ]
  },
  {
   "cell_type": "code",
   "execution_count": null,
   "metadata": {
    "execution": {
     "iopub.execute_input": "2025-03-11T11:42:05.998092Z",
     "iopub.status.busy": "2025-03-11T11:42:05.997895Z",
     "iopub.status.idle": "2025-03-11T11:42:06.017491Z",
     "shell.execute_reply": "2025-03-11T11:42:06.016530Z",
     "shell.execute_reply.started": "2025-03-11T11:42:05.998076Z"
    },
    "trusted": true
   },
   "outputs": [],
   "source": [
    "show_at(tls.valid, 0)"
   ]
  },
  {
   "cell_type": "code",
   "execution_count": null,
   "metadata": {
    "execution": {
     "iopub.execute_input": "2025-03-11T11:42:06.018748Z",
     "iopub.status.busy": "2025-03-11T11:42:06.018429Z",
     "iopub.status.idle": "2025-03-11T11:42:18.356549Z",
     "shell.execute_reply": "2025-03-11T11:42:18.355643Z",
     "shell.execute_reply.started": "2025-03-11T11:42:06.018702Z"
    },
    "trusted": true
   },
   "outputs": [],
   "source": [
    "bs,sl = 4,256\n",
    "dls = tls.dataloaders(bs=bs, seq_len=sl)"
   ]
  },
  {
   "cell_type": "code",
   "execution_count": null,
   "metadata": {
    "execution": {
     "iopub.execute_input": "2025-03-11T11:42:18.357823Z",
     "iopub.status.busy": "2025-03-11T11:42:18.357513Z",
     "iopub.status.idle": "2025-03-11T11:42:18.474972Z",
     "shell.execute_reply": "2025-03-11T11:42:18.474058Z",
     "shell.execute_reply.started": "2025-03-11T11:42:18.357793Z"
    },
    "trusted": true
   },
   "outputs": [],
   "source": [
    "dls.show_batch(max_n=2)"
   ]
  },
  {
   "cell_type": "markdown",
   "metadata": {},
   "source": [
    "#### Fine-tuning the model"
   ]
  },
  {
   "cell_type": "code",
   "execution_count": null,
   "metadata": {
    "execution": {
     "iopub.execute_input": "2025-03-11T11:42:18.476284Z",
     "iopub.status.busy": "2025-03-11T11:42:18.475975Z",
     "iopub.status.idle": "2025-03-11T11:42:18.481219Z",
     "shell.execute_reply": "2025-03-11T11:42:18.480350Z",
     "shell.execute_reply.started": "2025-03-11T11:42:18.476257Z"
    },
    "trusted": true
   },
   "outputs": [],
   "source": [
    "class DropOutput(Callback):\n",
    "    def after_pred(self): self.learn.pred = self.pred[0]"
   ]
  },
  {
   "cell_type": "code",
   "execution_count": null,
   "metadata": {
    "execution": {
     "iopub.execute_input": "2025-03-11T11:42:18.482511Z",
     "iopub.status.busy": "2025-03-11T11:42:18.482204Z",
     "iopub.status.idle": "2025-03-11T11:42:18.500591Z",
     "shell.execute_reply": "2025-03-11T11:42:18.499692Z",
     "shell.execute_reply.started": "2025-03-11T11:42:18.482482Z"
    },
    "trusted": true
   },
   "outputs": [],
   "source": [
    "learn = Learner(dls, model, loss_func=CrossEntropyLossFlat(), cbs=[DropOutput], metrics=Perplexity()).to_fp16()"
   ]
  },
  {
   "cell_type": "code",
   "execution_count": null,
   "metadata": {
    "execution": {
     "iopub.execute_input": "2025-03-11T11:42:18.501936Z",
     "iopub.status.busy": "2025-03-11T11:42:18.501684Z",
     "iopub.status.idle": "2025-03-11T11:42:27.426447Z",
     "shell.execute_reply": "2025-03-11T11:42:27.425553Z",
     "shell.execute_reply.started": "2025-03-11T11:42:18.501915Z"
    },
    "trusted": true
   },
   "outputs": [],
   "source": [
    "learn.validate()"
   ]
  },
  {
   "cell_type": "code",
   "execution_count": null,
   "metadata": {
    "execution": {
     "iopub.execute_input": "2025-03-11T11:42:27.427852Z",
     "iopub.status.busy": "2025-03-11T11:42:27.427512Z",
     "iopub.status.idle": "2025-03-11T11:42:49.224881Z",
     "shell.execute_reply": "2025-03-11T11:42:49.223802Z",
     "shell.execute_reply.started": "2025-03-11T11:42:27.427817Z"
    },
    "trusted": true
   },
   "outputs": [],
   "source": [
    "learn.lr_find()"
   ]
  },
  {
   "cell_type": "code",
   "execution_count": null,
   "metadata": {
    "execution": {
     "iopub.execute_input": "2025-03-11T11:42:49.226249Z",
     "iopub.status.busy": "2025-03-11T11:42:49.225944Z",
     "iopub.status.idle": "2025-03-11T11:46:39.333379Z",
     "shell.execute_reply": "2025-03-11T11:46:39.332310Z",
     "shell.execute_reply.started": "2025-03-11T11:42:49.226221Z"
    },
    "trusted": true
   },
   "outputs": [],
   "source": [
    "learn.fit_one_cycle(1, 1e-4)"
   ]
  },
  {
   "cell_type": "markdown",
   "metadata": {},
   "source": [
    "# Test model"
   ]
  },
  {
   "cell_type": "code",
   "execution_count": null,
   "metadata": {
    "execution": {
     "iopub.execute_input": "2025-03-11T11:46:58.866018Z",
     "iopub.status.busy": "2025-03-11T11:46:58.865598Z",
     "iopub.status.idle": "2025-03-11T11:47:01.234527Z",
     "shell.execute_reply": "2025-03-11T11:47:01.233660Z",
     "shell.execute_reply.started": "2025-03-11T11:46:58.865986Z"
    },
    "trusted": true
   },
   "outputs": [],
   "source": [
    "learn.save(\"gpt2-finetuned-shopee\")"
   ]
  },
  {
   "cell_type": "code",
   "execution_count": null,
   "metadata": {
    "execution": {
     "iopub.execute_input": "2025-03-11T11:46:41.670850Z",
     "iopub.status.busy": "2025-03-11T11:46:41.670602Z",
     "iopub.status.idle": "2025-03-11T11:46:41.682454Z",
     "shell.execute_reply": "2025-03-11T11:46:41.681534Z",
     "shell.execute_reply.started": "2025-03-11T11:46:41.670829Z"
    },
    "trusted": true
   },
   "outputs": [],
   "source": [
    "df_valid.head(1)"
   ]
  },
  {
   "cell_type": "code",
   "execution_count": null,
   "metadata": {
    "execution": {
     "iopub.execute_input": "2025-03-11T11:47:16.841435Z",
     "iopub.status.busy": "2025-03-11T11:47:16.841102Z",
     "iopub.status.idle": "2025-03-11T11:47:16.847711Z",
     "shell.execute_reply": "2025-03-11T11:47:16.846856Z",
     "shell.execute_reply.started": "2025-03-11T11:47:16.841405Z"
    },
    "trusted": true
   },
   "outputs": [],
   "source": [
    "prompt = \"Đặt 6 túi thì 1 túi 14 inch tốt, 5 túi kia cầm ọp ẹp, đáy thì chả có tí gì để gọi là chống sock k biết shop có gửi nhầm k nhưng thôi 23k thì cũng k nên đòi hỏi mua tạm và k có lần sau.\"\n",
    "\n",
    "prompt_ids = tokenizer.encode(prompt)\n",
    "inp = tensor(prompt_ids)[None].cuda()\n",
    "inp.shape"
   ]
  },
  {
   "cell_type": "code",
   "execution_count": null,
   "metadata": {
    "execution": {
     "iopub.execute_input": "2025-03-11T11:47:55.518494Z",
     "iopub.status.busy": "2025-03-11T11:47:55.518137Z",
     "iopub.status.idle": "2025-03-11T11:47:55.525232Z",
     "shell.execute_reply": "2025-03-11T11:47:55.524323Z",
     "shell.execute_reply.started": "2025-03-11T11:47:55.518443Z"
    },
    "trusted": true
   },
   "outputs": [],
   "source": [
    "preds = learn.model.generate(inp, max_length=100, num_beams=5, temperature=0.75, early_stopping=True, no_repeat_ngram_size=2)\n",
    "tokenizer.decode(preds[0].cpu().numpy())"
   ]
  }
 ],
 "metadata": {
  "kaggle": {
   "accelerator": "gpu",
   "dataSources": [
    {
     "datasetId": 6842584,
     "sourceId": 10993057,
     "sourceType": "datasetVersion"
    }
   ],
   "dockerImageVersionId": 30919,
   "isGpuEnabled": true,
   "isInternetEnabled": true,
   "language": "python",
   "sourceType": "notebook"
  },
  "kernelspec": {
   "display_name": "base",
   "language": "python",
   "name": "python3"
  },
  "language_info": {
   "codemirror_mode": {
    "name": "ipython",
    "version": 3
   },
   "file_extension": ".py",
   "mimetype": "text/x-python",
   "name": "python",
   "nbconvert_exporter": "python",
   "pygments_lexer": "ipython3",
   "version": "3.11.5"
  }
 },
 "nbformat": 4,
 "nbformat_minor": 4
}
