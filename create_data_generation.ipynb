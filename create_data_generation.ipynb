{
 "cells": [
  {
   "cell_type": "code",
   "execution_count": null,
   "metadata": {
    "execution": {
     "iopub.execute_input": "2025-03-12T05:47:13.979179Z",
     "iopub.status.busy": "2025-03-12T05:47:13.978805Z",
     "iopub.status.idle": "2025-03-12T05:47:38.713484Z",
     "shell.execute_reply": "2025-03-12T05:47:38.711977Z",
     "shell.execute_reply.started": "2025-03-12T05:47:13.979148Z"
    },
    "trusted": true
   },
   "outputs": [],
   "source": [
    "import torch\n",
    "from transformers import GPT2LMHeadModel, GPT2TokenizerFast\n",
    "from fastai.text.all import *\n",
    "import pandas as pd\n",
    "import gc\n",
    "import numpy as np\n",
    "from sklearn.model_selection import train_test_split\n",
    "from tqdm import tqdm\n",
    "from IPython.display import clear_output\n",
    "from transformers.utils import logging\n",
    "logging.set_verbosity_error()\n",
    "import warnings\n",
    "warnings.filterwarnings(action=\"ignore\")\n",
    "\n",
    "device = torch.device(\"cuda\" if torch.cuda.is_available() else \"cpu\")  # Chọn GPU nếu có"
   ]
  },
  {
   "cell_type": "code",
   "execution_count": null,
   "metadata": {
    "execution": {
     "iopub.execute_input": "2025-03-12T05:47:38.715778Z",
     "iopub.status.busy": "2025-03-12T05:47:38.714969Z",
     "iopub.status.idle": "2025-03-12T05:47:43.867194Z",
     "shell.execute_reply": "2025-03-12T05:47:43.865731Z",
     "shell.execute_reply.started": "2025-03-12T05:47:38.715747Z"
    },
    "trusted": true
   },
   "outputs": [],
   "source": [
    "pretrained_weights = 'NlpHUST/gpt2-vietnamese'\n",
    "tokenizer = GPT2TokenizerFast.from_pretrained(pretrained_weights)\n",
    "model = GPT2LMHeadModel.from_pretrained(pretrained_weights).to(device) "
   ]
  },
  {
   "cell_type": "code",
   "execution_count": null,
   "metadata": {
    "execution": {
     "iopub.execute_input": "2025-03-12T05:47:43.870177Z",
     "iopub.status.busy": "2025-03-12T05:47:43.869826Z",
     "iopub.status.idle": "2025-03-12T05:47:43.876803Z",
     "shell.execute_reply": "2025-03-12T05:47:43.875618Z",
     "shell.execute_reply.started": "2025-03-12T05:47:43.870145Z"
    },
    "trusted": true
   },
   "outputs": [],
   "source": [
    "def random_seed(seed_value, use_cuda):\n",
    "    np.random.seed(seed_value) # cpu vars\n",
    "    torch.manual_seed(seed_value) # cpu  vars\n",
    "    random.seed(seed_value) # Python\n",
    "    if use_cuda: \n",
    "        torch.cuda.manual_seed(seed_value)\n",
    "        torch.cuda.manual_seed_all(seed_value) # gpu vars\n",
    "        torch.backends.cudnn.deterministic = True  #needed\n",
    "        torch.backends.cudnn.benchmark = False\n",
    "#Remember to use num_workers=0 when creating the DataBunch."
   ]
  },
  {
   "cell_type": "code",
   "execution_count": null,
   "metadata": {
    "execution": {
     "iopub.execute_input": "2025-03-12T05:47:43.878723Z",
     "iopub.status.busy": "2025-03-12T05:47:43.878289Z",
     "iopub.status.idle": "2025-03-12T05:47:44.476658Z",
     "shell.execute_reply": "2025-03-12T05:47:44.475669Z",
     "shell.execute_reply.started": "2025-03-12T05:47:43.878685Z"
    },
    "trusted": true
   },
   "outputs": [],
   "source": [
    "path = ''\n",
    "df = pd.read_csv(r'shopee_data/new_shopee_1.csv')\n",
    "df.columns"
   ]
  },
  {
   "cell_type": "code",
   "execution_count": null,
   "metadata": {
    "execution": {
     "iopub.execute_input": "2025-03-12T05:47:44.478121Z",
     "iopub.status.busy": "2025-03-12T05:47:44.477786Z",
     "iopub.status.idle": "2025-03-12T05:47:56.017680Z",
     "shell.execute_reply": "2025-03-12T05:47:56.016813Z",
     "shell.execute_reply.started": "2025-03-12T05:47:44.478097Z"
    },
    "trusted": true
   },
   "outputs": [],
   "source": [
    "sample_df = df.rename(columns={'father_name': 'category', 'comment': 'reviewText'})\n",
    "sample_df[\"sentenceLength\"] = sample_df[\"reviewText\"].apply(lambda text: len(tokenizer.encode(text)))\n",
    "sample_df = sample_df[['category', 'reviewText', 'sentenceLength']]\n",
    "sample_df.head()"
   ]
  },
  {
   "cell_type": "code",
   "execution_count": null,
   "metadata": {
    "execution": {
     "iopub.execute_input": "2025-03-12T05:47:56.018744Z",
     "iopub.status.busy": "2025-03-12T05:47:56.018496Z",
     "iopub.status.idle": "2025-03-12T05:47:56.427714Z",
     "shell.execute_reply": "2025-03-12T05:47:56.426732Z",
     "shell.execute_reply.started": "2025-03-12T05:47:56.018723Z"
    },
    "trusted": true
   },
   "outputs": [],
   "source": [
    "gc.collect()"
   ]
  },
  {
   "cell_type": "code",
   "execution_count": null,
   "metadata": {
    "execution": {
     "iopub.execute_input": "2025-03-12T05:47:56.429079Z",
     "iopub.status.busy": "2025-03-12T05:47:56.428713Z",
     "iopub.status.idle": "2025-03-12T05:47:56.444999Z",
     "shell.execute_reply": "2025-03-12T05:47:56.444090Z",
     "shell.execute_reply.started": "2025-03-12T05:47:56.429053Z"
    },
    "trusted": true
   },
   "outputs": [],
   "source": [
    "class DropOutput(Callback):\n",
    "    def after_pred(self): self.learn.pred = self.pred[0]"
   ]
  },
  {
   "cell_type": "code",
   "execution_count": null,
   "metadata": {
    "execution": {
     "iopub.execute_input": "2025-03-12T05:47:56.448317Z",
     "iopub.status.busy": "2025-03-12T05:47:56.447977Z",
     "iopub.status.idle": "2025-03-12T05:47:56.464094Z",
     "shell.execute_reply": "2025-03-12T05:47:56.463014Z",
     "shell.execute_reply.started": "2025-03-12T05:47:56.448290Z"
    },
    "trusted": true
   },
   "outputs": [],
   "source": [
    "learn = Learner(dls=None, model=model, loss_func=CrossEntropyLossFlat(), cbs=[DropOutput], metrics=Perplexity()).to_fp16()"
   ]
  },
  {
   "cell_type": "markdown",
   "metadata": {},
   "source": [
    "### Generated examples of Toys_and_Games_5"
   ]
  },
  {
   "cell_type": "code",
   "execution_count": null,
   "metadata": {
    "execution": {
     "iopub.execute_input": "2025-03-12T05:47:56.466049Z",
     "iopub.status.busy": "2025-03-12T05:47:56.465614Z",
     "iopub.status.idle": "2025-03-12T05:48:04.067889Z",
     "shell.execute_reply": "2025-03-12T05:48:04.067051Z",
     "shell.execute_reply.started": "2025-03-12T05:47:56.466010Z"
    },
    "trusted": true
   },
   "outputs": [],
   "source": [
    "model_finetuned_path = r\"gpt2-finetuned-shopee\"\n",
    "\n",
    "learn.load(model_finetuned_path).cuda()\n",
    "learn.model.to(device)"
   ]
  },
  {
   "cell_type": "code",
   "execution_count": null,
   "metadata": {
    "execution": {
     "iopub.execute_input": "2025-03-12T05:48:04.068919Z",
     "iopub.status.busy": "2025-03-12T05:48:04.068670Z",
     "iopub.status.idle": "2025-03-12T05:48:04.073444Z",
     "shell.execute_reply": "2025-03-12T05:48:04.072438Z",
     "shell.execute_reply.started": "2025-03-12T05:48:04.068897Z"
    },
    "trusted": true
   },
   "outputs": [],
   "source": [
    "N_INITIAL_WORDS = 5\n",
    "LEN_SAMPLE_DF = sample_df.shape[0]\n",
    "N_REVIEWS = 36000\n",
    "BINS = list(range(5,300))"
   ]
  },
  {
   "cell_type": "code",
   "execution_count": null,
   "metadata": {
    "execution": {
     "iopub.execute_input": "2025-03-12T05:48:04.074870Z",
     "iopub.status.busy": "2025-03-12T05:48:04.074491Z",
     "iopub.status.idle": "2025-03-12T08:10:46.409573Z",
     "shell.execute_reply": "2025-03-12T08:10:46.408439Z",
     "shell.execute_reply.started": "2025-03-12T05:48:04.074828Z"
    },
    "trusted": true
   },
   "outputs": [],
   "source": [
    "generated_df_rows = []\n",
    "\n",
    "for i in tqdm(range(len(BINS) - 1)):\n",
    "    clear_output(wait=True)  \n",
    "    sample_row_df = sample_df[\n",
    "        (sample_df[\"sentenceLength\"] >= BINS[i]) & (sample_df[\"sentenceLength\"] < BINS[i + 1])\n",
    "    ]\n",
    "    bin_proportion = sample_row_df.shape[0] / float(LEN_SAMPLE_DF)\n",
    "    n_reviews_to_generate = int(bin_proportion * N_REVIEWS) + 1\n",
    "    if len(sample_row_df) < 2:\n",
    "        continue    \n",
    "    try:\n",
    "        or_df, cg_df = train_test_split(sample_row_df, test_size=0.5, random_state=2021)\n",
    "\n",
    "        sample_reviews_df = cg_df.sample(n=min(n_reviews_to_generate, len(cg_df)), random_state=2021)\n",
    "        or_sample_reviews_df = or_df.sample(n=min(n_reviews_to_generate, len(or_df)), random_state=2021)\n",
    "        \n",
    "        max_len = BINS[i]\n",
    "    \n",
    "        for index, row in sample_reviews_df.iterrows():\n",
    "            text = row[\"reviewText\"]\n",
    "            prompt = \" \".join(text.strip().split(\" \")[:N_INITIAL_WORDS])\n",
    "            prompt_ids = tokenizer.encode(prompt)\n",
    "            # inp = tensor(prompt_ids)[None].cuda()\n",
    "            inp = torch.tensor(prompt_ids, device=device)[None]  # Chuyển tensor lên GPU\n",
    "\n",
    "            random_seed(seed_value=2021, use_cuda=True)\n",
    "            \n",
    "            preds = learn.model.generate(inp, max_length=max_len + 1, do_sample=True, top_k=0, top_p=0.92, temperature=0.7)\n",
    "            decoded_preds = tokenizer.decode(preds[0], skip_special_tokens=True)\n",
    "            \n",
    "            generated_df_rows.append([row[\"category\"], decoded_preds, \"CG\"])\n",
    "    \n",
    "        for index, row in or_sample_reviews_df.iterrows():\n",
    "            generated_df_rows.append([row[\"category\"], row[\"reviewText\"], \"OR\"])\n",
    "            \n",
    "    except Exception as e:\n",
    "        print(e)\n",
    "        continue"
   ]
  },
  {
   "cell_type": "code",
   "execution_count": null,
   "metadata": {
    "execution": {
     "iopub.execute_input": "2025-03-12T08:10:46.411203Z",
     "iopub.status.busy": "2025-03-12T08:10:46.410778Z",
     "iopub.status.idle": "2025-03-12T08:10:46.437394Z",
     "shell.execute_reply": "2025-03-12T08:10:46.436293Z",
     "shell.execute_reply.started": "2025-03-12T08:10:46.411166Z"
    },
    "trusted": true
   },
   "outputs": [],
   "source": [
    "generated_df = pd.DataFrame(generated_df_rows, columns=[\"category\", \"text\", \"label\"])"
   ]
  },
  {
   "cell_type": "code",
   "execution_count": null,
   "metadata": {
    "execution": {
     "iopub.execute_input": "2025-03-12T08:10:46.439074Z",
     "iopub.status.busy": "2025-03-12T08:10:46.438685Z",
     "iopub.status.idle": "2025-03-12T08:10:46.457001Z",
     "shell.execute_reply": "2025-03-12T08:10:46.456086Z",
     "shell.execute_reply.started": "2025-03-12T08:10:46.439034Z"
    },
    "trusted": true
   },
   "outputs": [],
   "source": [
    "generated_df.shape"
   ]
  },
  {
   "cell_type": "code",
   "execution_count": null,
   "metadata": {
    "execution": {
     "iopub.execute_input": "2025-03-12T08:10:46.458400Z",
     "iopub.status.busy": "2025-03-12T08:10:46.458052Z",
     "iopub.status.idle": "2025-03-12T08:10:46.489866Z",
     "shell.execute_reply": "2025-03-12T08:10:46.488737Z",
     "shell.execute_reply.started": "2025-03-12T08:10:46.458366Z"
    },
    "trusted": true
   },
   "outputs": [],
   "source": [
    "generated_df.sample(20)"
   ]
  },
  {
   "cell_type": "code",
   "execution_count": null,
   "metadata": {
    "execution": {
     "iopub.execute_input": "2025-03-12T08:10:46.491266Z",
     "iopub.status.busy": "2025-03-12T08:10:46.490998Z",
     "iopub.status.idle": "2025-03-12T08:10:46.510909Z",
     "shell.execute_reply": "2025-03-12T08:10:46.509905Z",
     "shell.execute_reply.started": "2025-03-12T08:10:46.491244Z"
    },
    "trusted": true
   },
   "outputs": [],
   "source": [
    "generated_df.head()"
   ]
  },
  {
   "cell_type": "code",
   "execution_count": null,
   "metadata": {
    "execution": {
     "iopub.execute_input": "2025-03-12T08:10:46.512437Z",
     "iopub.status.busy": "2025-03-12T08:10:46.512021Z",
     "iopub.status.idle": "2025-03-12T08:10:46.873786Z",
     "shell.execute_reply": "2025-03-12T08:10:46.872841Z",
     "shell.execute_reply.started": "2025-03-12T08:10:46.512399Z"
    },
    "trusted": true
   },
   "outputs": [],
   "source": [
    "generated_df.to_csv(\"Generated_Sentences_1.csv\", index=None)"
   ]
  }
 ],
 "metadata": {
  "kaggle": {
   "accelerator": "gpu",
   "dataSources": [
    {
     "datasetId": 6842584,
     "sourceId": 11001800,
     "sourceType": "datasetVersion"
    },
    {
     "isSourceIdPinned": true,
     "modelId": 263628,
     "modelInstanceId": 241985,
     "sourceId": 282422,
     "sourceType": "modelInstanceVersion"
    }
   ],
   "dockerImageVersionId": 30919,
   "isGpuEnabled": true,
   "isInternetEnabled": true,
   "language": "python",
   "sourceType": "notebook"
  },
  "kernelspec": {
   "display_name": "base",
   "language": "python",
   "name": "python3"
  },
  "language_info": {
   "codemirror_mode": {
    "name": "ipython",
    "version": 3
   },
   "file_extension": ".py",
   "mimetype": "text/x-python",
   "name": "python",
   "nbconvert_exporter": "python",
   "pygments_lexer": "ipython3",
   "version": "3.11.5"
  }
 },
 "nbformat": 4,
 "nbformat_minor": 4
}
