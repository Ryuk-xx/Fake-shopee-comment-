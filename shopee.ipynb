{
 "cells": [
  {
   "cell_type": "code",
   "execution_count": 11,
   "metadata": {},
   "outputs": [],
   "source": [
    "import pandas as pd \n",
    "import numpy as np"
   ]
  },
  {
   "cell_type": "code",
   "execution_count": null,
   "metadata": {},
   "outputs": [],
   "source": [
    "data_path = r'shopee_data\\shopee.csv' # path to raw shopee data (need to download from kaggle: https://www.kaggle.com/datasets/thinhtran2045/shopee-data)\n",
    "df = pd.read_csv(data_path)\n",
    "df = df.dropna()"
   ]
  },
  {
   "cell_type": "code",
   "execution_count": 13,
   "metadata": {},
   "outputs": [
    {
     "data": {
      "text/plain": [
       "father_name\n",
       "Thời Trang Nữ        2094910\n",
       "Túi Ví Nữ            1224134\n",
       "Thời Trang Nam       1184680\n",
       "Giày Dép Nữ           700663\n",
       "Thời Trang Trẻ Em     671956\n",
       "Giày Dép Nam          488953\n",
       "Balo & Túi Ví Nam     431181\n",
       "Đồng Hồ               306829\n",
       "Name: count, dtype: int64"
      ]
     },
     "execution_count": 13,
     "metadata": {},
     "output_type": "execute_result"
    }
   ],
   "source": [
    "df['father_name'].value_counts()"
   ]
  },
  {
   "cell_type": "code",
   "execution_count": 14,
   "metadata": {},
   "outputs": [
    {
     "data": {
      "text/plain": [
       "father_name\n",
       "Balo & Túi Ví Nam    10000\n",
       "Giày Dép Nam         10000\n",
       "Giày Dép Nữ          10000\n",
       "Thời Trang Nam       10000\n",
       "Thời Trang Nữ        10000\n",
       "Thời Trang Trẻ Em    10000\n",
       "Túi Ví Nữ            10000\n",
       "Đồng Hồ              10000\n",
       "Name: count, dtype: int64"
      ]
     },
     "execution_count": 14,
     "metadata": {},
     "output_type": "execute_result"
    }
   ],
   "source": [
    "# Lấy mẫu dữ liệu cân bằng từ dataframe df\n",
    "# Lấy 10000 mẫu cho mỗi loại mặt hànghàng\n",
    "balanced_df = df.groupby('father_name').apply(lambda x: x.sample(10000)).reset_index(drop=True)\n",
    "balanced_df['father_name'].value_counts()"
   ]
  },
  {
   "cell_type": "code",
   "execution_count": 8,
   "metadata": {},
   "outputs": [],
   "source": [
    "balanced_df = balanced_df[['comment','father_name']]"
   ]
  },
  {
   "cell_type": "code",
   "execution_count": 9,
   "metadata": {},
   "outputs": [],
   "source": [
    "balanced_df.to_csv('new_shopee_1.csv', index=False)"
   ]
  },
  {
   "cell_type": "code",
   "execution_count": 10,
   "metadata": {},
   "outputs": [
    {
     "data": {
      "application/vnd.microsoft.datawrangler.viewer.v0+json": {
       "columns": [
        {
         "name": "index",
         "rawType": "int64",
         "type": "integer"
        },
        {
         "name": "comment",
         "rawType": "object",
         "type": "string"
        },
        {
         "name": "father_name",
         "rawType": "object",
         "type": "string"
        }
       ],
       "conversionMethod": "pd.DataFrame",
       "ref": "3f34513f-00b0-436a-99f8-ddd5a1cb0dea",
       "rows": [
        [
         "0",
         "Chất liệu:vai\nĐúng với mô tả:đ\nMàu sắc:đen\n\nHàng đẹp \nI've been thinkin' back on you and ITrở thành phiên bản đẹp nhất của JISOO CHECK-IN CÙNG CARTIER VIỆT NAM VÀ LỜI HẸN GẶP ”SEE YOU SOON” TẠI CONC",
         "Balo & Túi Ví Nam"
        ],
        [
         "1",
         "túi đẹp, vải chắc chắn, lúc đầu tưởng nhỏ nhưng mà giao thấy cũng to, tạm ổn",
         "Balo & Túi Ví Nam"
        ],
        [
         "2",
         "Hàng đẹp lm ạ",
         "Balo & Túi Ví Nam"
        ],
        [
         "3",
         "ý nghĩa của từ năm ngoái lại nhìn thấy một người đàn ông có thể được đi học hả",
         "Balo & Túi Ví Nam"
        ],
        [
         "4",
         "Sản phẩm đúng như mô tả, giá hợp lý\nHình ảnh mang tính chất nhận xu",
         "Balo & Túi Ví Nam"
        ],
        [
         "5",
         "Đẹp nên mua. Cảm ơn shop\nGhjkkljgfdfjjklljbfsagjjkkkkkmnb",
         "Balo & Túi Ví Nam"
        ],
        [
         "6",
         "Simili mỏng, không phải da nhé",
         "Balo & Túi Ví Nam"
        ],
        [
         "7",
         "Tính năng nổi bật:Bảo vệ laptop\nChất lượng sản phẩm:Tốt\n\nHàng tốt, giá hợp lý, giao hàng nhanh chóng. Đánh giá năm sao",
         "Balo & Túi Ví Nam"
        ],
        [
         "8",
         "Đúng với mô tả:tốt\nChất liệu:vải canvas\nMàu sắc:đen\n\nnhỏ gọn, phù hợp học sinh sinh viên, chắc chắn, đáng mua!",
         "Balo & Túi Ví Nam"
        ],
        [
         "9",
         "Hơi to  so với lap 11.6inch",
         "Balo & Túi Ví Nam"
        ],
        [
         "10",
         "Đúng với mô tả:ok\nChất liệu:ok\nMàu sắc:ok",
         "Balo & Túi Ví Nam"
        ],
        [
         "11",
         "Màu sắc:xanh\nĐúng với mô tả:đúng\n\nĐơn hàng về đúng ngày.Đẹp hình ảnh và video chỉ mang tính chất nhận xu",
         "Balo & Túi Ví Nam"
        ],
        [
         "12",
         "Rất đẹp nha.",
         "Balo & Túi Ví Nam"
        ],
        [
         "13",
         "Chất liệu:vải\nĐúng với mô tả:💯💯💯\n\nBalo siêu to khổng lồ dáng thể thao các khóa kéo mượt quai đeo vừa ng ko bị lệch",
         "Balo & Túi Ví Nam"
        ],
        [
         "14",
         "Màu sắc:đen\nChất liệu:da\n\nGiao hàng nhanh y hình nha chất mềm đẹp nè mọi người ơi nên mua nha",
         "Balo & Túi Ví Nam"
        ],
        [
         "15",
         "Chất liệu:nylon\nĐúng với mô tả:ok\nMàu sắc:xanh lam\n\nOk sản phẩm rất tuyệt..",
         "Balo & Túi Ví Nam"
        ],
        [
         "16",
         "Đúng với mô tả:đẹp\nChất liệu:tốt\nMàu sắc:xanh đen",
         "Balo & Túi Ví Nam"
        ],
        [
         "17",
         "Tương tự như ad: vâng\nChất lượng: tốt\nKích thước: tuyệt vời\n\nTôi thích nó, đây là chiếc thứ hai tôi đặt hàng,",
         "Balo & Túi Ví Nam"
        ],
        [
         "18",
         "Túi hơi nhỏ. Chật, đựng laptop khá chật, giao hàng rất nhanh.",
         "Balo & Túi Ví Nam"
        ],
        [
         "19",
         "Lần đầu mua hàng của shop phải nói là hàng khá đẹp chất lượng ngoài sự mong đợi mọi người nên mua",
         "Balo & Túi Ví Nam"
        ],
        [
         "20",
         "Đã nhận được sản phẩm, rất ưng ý ạ, sản phẩm tuyệt vời lắm, có thêm giấy thơm ạ",
         "Balo & Túi Ví Nam"
        ],
        [
         "21",
         "Chất liệu:vải\nMàu sắc:đen\n\nMấy cục nam châm để giữ nắp hút rất yếu. Thường xuyên bị bung nắp hở đồ bên trong. Chỉ nên dùng đựng đồ ít dưới 2kg. Trên 2kg nam châm ko giữ kín cặp được. Hi vọngdùng đc 3 tháng",
         "Balo & Túi Ví Nam"
        ],
        [
         "22",
         "Chất liệu:đúng\n\nNói chung hơi mỏng manh,dùng tạm",
         "Balo & Túi Ví Nam"
        ],
        [
         "23",
         "Cặp ok,chất liệu vải cũng mỏng thôi k dày dặn lắm,nhưng do giá rẻ nên m k đòi hỏi nhìu.shop giao hàng nhanh cực",
         "Balo & Túi Ví Nam"
        ],
        [
         "24",
         "Ưng to lắm. Chất túi cứng cáp. Để cả thế giới vào túi. Hợp lý khi đeo đi du lịch 1 ngày với nữ gọn gàng. Giá rẻ ưng lắm. Mình mua mang đi tập để vài bộ quần áo",
         "Balo & Túi Ví Nam"
        ],
        [
         "25",
         "Ok nhìn rất ổn, rất thích nha. Giao rất nhanh. Cảm ơn nhiều. Nếu dùng tốt sẽ mua ủng hộ lâu dài nhen.",
         "Balo & Túi Ví Nam"
        ],
        [
         "26",
         "Màu sắc:đen\nĐúng với mô tả:đúng\nChất liệu:da\n\nVí đẹp lắm nha y hình khắc tên nữa nên rất ý nghĩa tặng NY hoặc bạn bè rất hợp",
         "Balo & Túi Ví Nam"
        ],
        [
         "27",
         "Chất liệu:vải hơi thô nhưng chắc chắn. mua đuoc gia rẻ rat tốt. hài lòng với sản phẩm\nĐúng với mô tả:đúng hình\nMàu sắc:đen",
         "Balo & Túi Ví Nam"
        ],
        [
         "28",
         "Bộ phim 《Ước Hẹn Cùng Nhau Trưởng Thành》CHÍNH THỨC LÊN SÓNG 22/11 TRÊN IQIYI\nCó phim xem rồi🥰\n#HongHa #henuoccungnhautruongthanh",
         "Balo & Túi Ví Nam"
        ],
        [
         "29",
         "Màu sắc:xám\nChất liệu:vải\nĐúng với mô tả:đặt đen giao xám :))\n\ngiao nhanh nhưng mà lộn màu ví oke.",
         "Balo & Túi Ví Nam"
        ],
        [
         "30",
         "Đẹp, chất lượng, giao nhanh, giá rẻ => nên mua nếu có nhu cầu. Cảm ơn",
         "Balo & Túi Ví Nam"
        ],
        [
         "31",
         "Giao hàng nhanh, đóng gói cẩn thận. Túi đúng với mô tả, với giá này thì như vậy quá oke rồi.",
         "Balo & Túi Ví Nam"
        ],
        [
         "32",
         "Sản phẩm rất tốt cho sức khỏe của người dân Việt Nam  hy vọng độ bền cao",
         "Balo & Túi Ví Nam"
        ],
        [
         "33",
         "Màu sắc:trắng\n\nảnh chỉ mang tính chất nhận xu\nhàng xinkk, balo rộng, zzz",
         "Balo & Túi Ví Nam"
        ],
        [
         "34",
         "Chất liệu tốt. Bé rất khoái :D",
         "Balo & Túi Ví Nam"
        ],
        [
         "35",
         "Hàng giao nhanh, đóng gói cẩn thận. Giá cả hợp lý!",
         "Balo & Túi Ví Nam"
        ],
        [
         "36",
         "Ổn",
         "Balo & Túi Ví Nam"
        ],
        [
         "37",
         "Chất lượng: Vẫn còn trong gói, cảm thấy mềm mại từ bên ngoài\nMàu sắc: Nâu / đen ??\n\nĐã đặt hàng màu nâu cà phê nhưng thay vào đó lại nhận được màu đen.",
         "Balo & Túi Ví Nam"
        ],
        [
         "38",
         "Giao hàng nhanh, hàng đóng gói cẩn thận, đúng mô tả, giá cả hợp lý",
         "Balo & Túi Ví Nam"
        ],
        [
         "39",
         "Ko có túi nhỏ huỵugyvybgybvygyggygyyggyggyvgvfvyfvyfhhyhhhhgh",
         "Balo & Túi Ví Nam"
        ],
        [
         "40",
         "Túi đẹp ❤️",
         "Balo & Túi Ví Nam"
        ],
        [
         "41",
         "Đúng với mô tả:hàng như hình giới thiệu\nChất liệu:hơi mỏng nhẹ\nMàu sắc:màu đen đẹp",
         "Balo & Túi Ví Nam"
        ],
        [
         "42",
         "Hàng đẹp giá rẻ. Hàng nhận được y hình của shop. Chất liệu dày dặn.\n(Hình ảnh chỉ mang tính chất nhận xu😁)",
         "Balo & Túi Ví Nam"
        ],
        [
         "43",
         "Màu sắc:Đỏ đô\nChất liệu:Vải\nĐúng với mô tả:Đúng\n\nMình chọn giao màu ngẫu nhiên, chất vải mỏng, nhưng với giá tiền vậy thì cũng ok rồi. Balo không dày, lap mình có túi chống sốc nên để vô balo thì ok",
         "Balo & Túi Ví Nam"
        ],
        [
         "44",
         "Chất liệu:tot\nĐúng với mô tả:dung\nMàu sắc:ghi",
         "Balo & Túi Ví Nam"
        ],
        [
         "45",
         "nhân viên giao hàng thân thiện, sản phẩm đẹp ok",
         "Balo & Túi Ví Nam"
        ],
        [
         "46",
         "Đúng với mô tả:đug\nMàu sắc:đug\nChất liệu:cx oke\n\nCó cái ví bj chầy gốc",
         "Balo & Túi Ví Nam"
        ],
        [
         "47",
         "[TB] Bộ TTTT khuyến cáo người dân nâng cao cảnh giác, không chuyển tiền hoặc cung cấp thông tin cá nhân cho người lạ qua điện thoại. Nếu có hiện tượng trên, đề nghị trình báo ngay cho cơ quan Công an để xử lý hoặc thông báo đến số điện thoại trực ban hình sự 0692348560 của Cục Cảnh sát hình sự để được hướng dẫn kịp thời.",
         "Balo & Túi Ví Nam"
        ],
        [
         "48",
         "Đúng với mô tả:dep\nChất liệu:nhựa\nMàu sắc:lấp lánh\n\nHình ảnh và video chie mang tính chật nhận xu / nhm nên mua nha ốp đep",
         "Balo & Túi Ví Nam"
        ],
        [
         "49",
         "chất lượng nhoa",
         "Balo & Túi Ví Nam"
        ]
       ],
       "shape": {
        "columns": 2,
        "rows": 80000
       }
      },
      "text/html": [
       "<div>\n",
       "<style scoped>\n",
       "    .dataframe tbody tr th:only-of-type {\n",
       "        vertical-align: middle;\n",
       "    }\n",
       "\n",
       "    .dataframe tbody tr th {\n",
       "        vertical-align: top;\n",
       "    }\n",
       "\n",
       "    .dataframe thead th {\n",
       "        text-align: right;\n",
       "    }\n",
       "</style>\n",
       "<table border=\"1\" class=\"dataframe\">\n",
       "  <thead>\n",
       "    <tr style=\"text-align: right;\">\n",
       "      <th></th>\n",
       "      <th>comment</th>\n",
       "      <th>father_name</th>\n",
       "    </tr>\n",
       "  </thead>\n",
       "  <tbody>\n",
       "    <tr>\n",
       "      <th>0</th>\n",
       "      <td>Chất liệu:vai\\nĐúng với mô tả:đ\\nMàu sắc:đen\\n...</td>\n",
       "      <td>Balo &amp; Túi Ví Nam</td>\n",
       "    </tr>\n",
       "    <tr>\n",
       "      <th>1</th>\n",
       "      <td>túi đẹp, vải chắc chắn, lúc đầu tưởng nhỏ nhưn...</td>\n",
       "      <td>Balo &amp; Túi Ví Nam</td>\n",
       "    </tr>\n",
       "    <tr>\n",
       "      <th>2</th>\n",
       "      <td>Hàng đẹp lm ạ</td>\n",
       "      <td>Balo &amp; Túi Ví Nam</td>\n",
       "    </tr>\n",
       "    <tr>\n",
       "      <th>3</th>\n",
       "      <td>ý nghĩa của từ năm ngoái lại nhìn thấy một ngư...</td>\n",
       "      <td>Balo &amp; Túi Ví Nam</td>\n",
       "    </tr>\n",
       "    <tr>\n",
       "      <th>4</th>\n",
       "      <td>Sản phẩm đúng như mô tả, giá hợp lý\\nHình ảnh ...</td>\n",
       "      <td>Balo &amp; Túi Ví Nam</td>\n",
       "    </tr>\n",
       "    <tr>\n",
       "      <th>...</th>\n",
       "      <td>...</td>\n",
       "      <td>...</td>\n",
       "    </tr>\n",
       "    <tr>\n",
       "      <th>79995</th>\n",
       "      <td>Đóng gói cẩn thận giao hàng nhanh. Mua của sho...</td>\n",
       "      <td>Đồng Hồ</td>\n",
       "    </tr>\n",
       "    <tr>\n",
       "      <th>79996</th>\n",
       "      <td>Sản phẩm được giao từ Trung Quốc mất một thời ...</td>\n",
       "      <td>Đồng Hồ</td>\n",
       "    </tr>\n",
       "    <tr>\n",
       "      <th>79997</th>\n",
       "      <td>Đồng hồ đẹp lắm. Bạn nhỏ rất thích</td>\n",
       "      <td>Đồng Hồ</td>\n",
       "    </tr>\n",
       "    <tr>\n",
       "      <th>79998</th>\n",
       "      <td>Hàng đúng mô tả.</td>\n",
       "      <td>Đồng Hồ</td>\n",
       "    </tr>\n",
       "    <tr>\n",
       "      <th>79999</th>\n",
       "      <td>Màu sắc:đúng\\nĐúng với mô tả:oke\\nChất liệu:da...</td>\n",
       "      <td>Đồng Hồ</td>\n",
       "    </tr>\n",
       "  </tbody>\n",
       "</table>\n",
       "<p>80000 rows × 2 columns</p>\n",
       "</div>"
      ],
      "text/plain": [
       "                                                 comment        father_name\n",
       "0      Chất liệu:vai\\nĐúng với mô tả:đ\\nMàu sắc:đen\\n...  Balo & Túi Ví Nam\n",
       "1      túi đẹp, vải chắc chắn, lúc đầu tưởng nhỏ nhưn...  Balo & Túi Ví Nam\n",
       "2                                          Hàng đẹp lm ạ  Balo & Túi Ví Nam\n",
       "3      ý nghĩa của từ năm ngoái lại nhìn thấy một ngư...  Balo & Túi Ví Nam\n",
       "4      Sản phẩm đúng như mô tả, giá hợp lý\\nHình ảnh ...  Balo & Túi Ví Nam\n",
       "...                                                  ...                ...\n",
       "79995  Đóng gói cẩn thận giao hàng nhanh. Mua của sho...            Đồng Hồ\n",
       "79996  Sản phẩm được giao từ Trung Quốc mất một thời ...            Đồng Hồ\n",
       "79997                 Đồng hồ đẹp lắm. Bạn nhỏ rất thích            Đồng Hồ\n",
       "79998                                   Hàng đúng mô tả.            Đồng Hồ\n",
       "79999  Màu sắc:đúng\\nĐúng với mô tả:oke\\nChất liệu:da...            Đồng Hồ\n",
       "\n",
       "[80000 rows x 2 columns]"
      ]
     },
     "execution_count": 10,
     "metadata": {},
     "output_type": "execute_result"
    }
   ],
   "source": [
    "df = pd.read_csv('new_shopee_1.csv')\n",
    "df"
   ]
  }
 ],
 "metadata": {
  "kernelspec": {
   "display_name": "base",
   "language": "python",
   "name": "python3"
  },
  "language_info": {
   "codemirror_mode": {
    "name": "ipython",
    "version": 3
   },
   "file_extension": ".py",
   "mimetype": "text/x-python",
   "name": "python",
   "nbconvert_exporter": "python",
   "pygments_lexer": "ipython3",
   "version": "3.11.5"
  }
 },
 "nbformat": 4,
 "nbformat_minor": 2
}
